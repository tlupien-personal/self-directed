{
 "cells": [
  {
   "cell_type": "markdown",
   "id": "0b1c7a4c-03b5-49cd-943f-01d6d5e0b546",
   "metadata": {
    "tags": []
   },
   "source": [
    "# Trends in E-Rate Requests from 2016 to 2018\n",
    "## by: Tim Lupien\n",
    "\n",
    "This report examines the year on year change in both the volume and the \n",
    "total value of E-Rate funding requests from 2016 to 2018. The\n",
    "volume decreased by 20% and 25% while value decreased by 10% and 12%, for\n",
    "2016-17 and 2017-18 resepectively. The overall trend can be overwhelmingly\n",
    "attributed to a decrease in requests for voice service funding, an expected\n",
    "consequence of the [E-Rate Modernization Order](https://www.fcc.gov/general/summary-e-rate-modernization-order)\n",
    "which began phasing out discounts for voice services in 2014. The difference\n",
    "in the rate of decrease between volume and value of requests is primarily\n",
    "due to the outsized impact of the largest 1% of requesting organizations on\n",
    "the total dollar value of requests. These organizations account for 6% of the\n",
    "volume of requests, but 45% of the dollar value requested, and do not always\n",
    "follow the same trends as their smaller counterparts."
   ]
  },
  {
   "cell_type": "code",
   "execution_count": 1,
   "id": "a2f0a4fe-1508-4eff-807c-5030d235001a",
   "metadata": {
    "tags": []
   },
   "outputs": [
    {
     "name": "stderr",
     "output_type": "stream",
     "text": [
      "/usr/lib/python3/dist-packages/requests/__init__.py:89: RequestsDependencyWarning: urllib3 (1.26.9) or chardet (4.0.0) doesn't match a supported version!\n",
      "  warnings.warn(\"urllib3 ({}) or chardet ({}) doesn't match a supported \"\n"
     ]
    }
   ],
   "source": [
    "import numpy as np\n",
    "import pandas as pd\n",
    "import matplotlib as mpl\n",
    "import matplotlib.pyplot as plt\n",
    "from sodapy import Socrata\n",
    "import seaborn as sns"
   ]
  },
  {
   "cell_type": "code",
   "execution_count": 2,
   "id": "491d6242-c7b4-41cf-a7fe-b01df9ac6c2e",
   "metadata": {
    "tags": []
   },
   "outputs": [],
   "source": [
    "# pretty colors\n",
    "usac_light = '#d9ebff'\n",
    "usac_dark = '#004bd3'\n",
    "usac_grey = '#eeeeee'\n",
    "banner_yellow = '#ffdd96'"
   ]
  },
  {
   "cell_type": "code",
   "execution_count": 3,
   "id": "d5fbc81d-3686-4890-9b87-5c92063be6f1",
   "metadata": {
    "tags": []
   },
   "outputs": [],
   "source": [
    "# setup\n",
    "client = Socrata(\"opendata.usac.org\",\\\n",
    "                 \"XibSDHkB4OvBkPQbvE8GKsK85\")\n",
    "data_id = \"qdmp-ygft\"\n",
    "\n",
    "# query\n",
    "where_clause = \"form_version = 'Original'\\\n",
    "                AND is_certified_in_window = 'In Window'\\\n",
    "                AND funding_year between '2016' and '2018'\"\n",
    "\n",
    "# pages calculation\n",
    "page_size = 1000\n",
    "n_records = int(client.get(data_id,\n",
    "                       select = 'COUNT(*)',\n",
    "                       where = where_clause)[0]['COUNT'])\n",
    "n_pages = n_records // page_size + 1\n",
    "print(f'This query will result in {n_pages} of {page_size} results each.')"
   ]
  },
  {
   "cell_type": "code",
   "execution_count": 4,
   "id": "7ed54f0f-163f-4d77-a054-5490a26ce1f3",
   "metadata": {
    "tags": []
   },
   "outputs": [],
   "source": [
    "# page through results to gather all of them\n",
    "# let me know if there's a better way of using the API...\n",
    "# this is very slow, and I saved the resultant dataframe as\n",
    "# a csv and would re-import it from that while working on\n",
    "# this...\n",
    "df_list = []\n",
    "print('Starting download.')\n",
    "for i in range(n_pages):\n",
    "    page = client.get(data_id,\n",
    "                      limit=page_size,\n",
    "                      offset=i*page_size,\n",
    "                      order=':id',\n",
    "                      select = '*',\n",
    "                      where = where_clause)\n",
    "    page_df = pd.DataFrame.from_records(page)\n",
    "    df_list.append(page_df)\n",
    "    if i % 50 == 0:\n",
    "        print(f'{i} pages ({i * page_size} observations) have been downloaded...')\n",
    "\n",
    "# Concat on a list of dfs more efficient than repeated append calls\n",
    "df = pd.concat(df_list)\n",
    "print('Complete.')"
   ]
  },
  {
   "cell_type": "code",
   "execution_count": 5,
   "id": "c3daa7da-1b3b-4d5f-9ce0-ec9554b342a3",
   "metadata": {
    "tags": []
   },
   "outputs": [],
   "source": [
    "def handle_long_labels(label_list):\n",
    "    '''Takes a list of strings and returns the same list of strings but\n",
    "    with line breaks inserted after the first however many words take\n",
    "    up longer than 15 characters'''\n",
    "    \n",
    "    new_labels = []\n",
    "    for label in label_list:\n",
    "        if len(label) >= 30:\n",
    "            label_words = label.split(' ')\n",
    "            length = 0\n",
    "            word_index = 0\n",
    "            for word in label_words:\n",
    "                length += len(word)\n",
    "                word_index += 1\n",
    "                if length >= 15:\n",
    "                    break\n",
    "            label_words[word_index] = '\\n' + label_words[word_index]\n",
    "            new_label = ' '.join(label_words)\n",
    "        else:\n",
    "            new_label = label\n",
    "        new_labels.append(new_label)\n",
    "    return new_labels"
   ]
  },
  {
   "cell_type": "code",
   "execution_count": 6,
   "id": "8fe82fa4-1d1e-402a-8d67-836425fa1618",
   "metadata": {
    "tags": []
   },
   "outputs": [],
   "source": [
    "def nice_pareto(ax, d, cs, metric, cat_name, year):\n",
    "    '''Makes pareto chart. Takes an axis (subplot), d (the absolute\n",
    "    change), cs (the cumulative sum of percent change), and the metric\n",
    "    and category name (for the dynamic title).'''\n",
    "    \n",
    "    # Branding\n",
    "    usac_light = '#d9ebff'\n",
    "    usac_dark = '#004bd3'\n",
    "    \n",
    "    # the bars\n",
    "    ax.bar(d.index, -d, edgecolor = 'k', color=usac_light, fill=True)\n",
    "    ax.xaxis.set_ticks(d.index)\n",
    "    ax.set_xticklabels(handle_long_labels(d.index), rotation=-15)\n",
    "    ax.set_ylabel('Absolute Size of Decrease')\n",
    "    ax.set_xlabel('Category')\n",
    "    ax.set_title(f'{year} Decrease in {metric} by {cat_name}')\n",
    "    ax.axhline(0, c='k', lw=1)\n",
    "\n",
    "    #the line\n",
    "    rax = ax.twinx() #right axis\n",
    "    rax.yaxis.set_major_formatter(mpl.ticker.PercentFormatter(\n",
    "        xmax=1,\n",
    "        decimals=0\n",
    "    ))\n",
    "    rax.set_ylabel('Cumulative Percent of Total Decrease')\n",
    "    rax.set_ylim(0, cs.max() + 0.05)\n",
    "    rax.plot(cs, c=usac_dark, marker='o', ms=8, lw=2)"
   ]
  },
  {
   "cell_type": "code",
   "execution_count": 7,
   "id": "c2b3ea20-1c06-4970-9c12-f058a7bc158b",
   "metadata": {
    "tags": []
   },
   "outputs": [],
   "source": [
    "def relative_change_plot(ax, pt, col, metric, cat_name, year):\n",
    "    '''Makes a relative change plot (boxes around 0). pt is a pivot\n",
    "    table (made in the master plot function) and col is a column of\n",
    "    said pivot table corresponding to a certain year over year period's\n",
    "    worth of relative change'''\n",
    "    \n",
    "    # Branding\n",
    "    usac_light = '#d9ebff'\n",
    "    usac_dark = '#004bd3'\n",
    "    \n",
    "    pt.sort_values(by=col, inplace=True) # sorting\n",
    "    \n",
    "    # actual plot\n",
    "    ax.bar(pt.index,\n",
    "           -pt[col],\n",
    "           edgecolor=usac_dark,\n",
    "           hatch='/',\n",
    "           linewidth=1,\n",
    "           fill=False)\n",
    "    \n",
    "    # ticks\n",
    "    ax.xaxis.set_ticks(pt.index)\n",
    "    ax.set_xticklabels(handle_long_labels(pt.index), rotation=-15)\n",
    "    \n",
    "    ax.yaxis.set_major_formatter(\n",
    "        mpl.ticker.PercentFormatter(xmax=1, decimals=1))\n",
    "    \n",
    "    #labels\n",
    "    ax.set_ylabel('Change Relative to Total Rate of Decrease\\\n",
    "    \\n (positive is a faster decrease)')\n",
    "    ax.set_xlabel('Category')\n",
    "    ax.set_title(f'{year} Relative Change in {metric} by {cat_name}')\n",
    "    ax.axhline(0, c='k', lw=1) # since they go up *and* down this is helpful"
   ]
  },
  {
   "cell_type": "code",
   "execution_count": 8,
   "id": "477fc009-bfa7-494f-a4c9-ebef25ac3bba",
   "metadata": {
    "tags": []
   },
   "outputs": [],
   "source": [
    "def master_plot_function(df, category, metric, cat_name):\n",
    "    '''This function creates the necessary inputs to create the four\n",
    "    plots I want for categorical variables (and makes the plots). It\n",
    "    takes a (the) dataframe, a category (a column of categorical\n",
    "    variables within the dataframe, a metric of either \"Volume\" or\n",
    "    \"Value\", which is used for setup and to create titles, and a\n",
    "    category name, which is a pretty version of the column name, also\n",
    "    for titles.'''\n",
    "    \n",
    "    # setup stuff\n",
    "    usac_light = '#d9ebff'\n",
    "    usac_dark = '#004bd3'\n",
    "    \n",
    "    if metric == 'Volume':\n",
    "        values = 'funding_request_number'\n",
    "        agg = 'count'\n",
    "        \n",
    "    elif metric == 'Value':\n",
    "        values = 'funding_commitment_request'\n",
    "        agg = 'sum'  \n",
    "        \n",
    "\n",
    "        \n",
    "    # important aggregations    \n",
    "    total_change = df.groupby(by='funding_year')[values].agg(agg)       \n",
    "        \n",
    "    pt = df.pivot_table(values,\n",
    "                    index=category,\n",
    "                    columns='funding_year',\n",
    "                    aggfunc=agg\n",
    "                   )\n",
    "    \n",
    "    # absolute changes and cumulative for pareto\n",
    "    \n",
    "    # 2016-17 absolute change for bars\n",
    "    d1617 = pt[2017] - pt[2016]\n",
    "    d1617 = d1617.sort_values()\n",
    "    \n",
    "    # 2016-17 cumulative percent\n",
    "    cs1617 = d1617.cumsum()\n",
    "    total_change1617 = total_change[2017] - total_change[2016]\n",
    "    cs1617 /= total_change1617\n",
    "    \n",
    "    # 2017-18 absolute change for bars\n",
    "    d1718 = pt[2018] - pt[2017]\n",
    "    d1718 = d1718.sort_values()\n",
    "    \n",
    "    # 2017-18 cumulative percent\n",
    "    cs1718 = d1718.cumsum()\n",
    "    total_change1718 = total_change[2018] - total_change[2017]\n",
    "    cs1718 /= total_change1718\n",
    "    \n",
    "    # relative change\n",
    "    \n",
    "    # total percent change\n",
    "    total_pct_chng_1617 = (total_change[2017]\n",
    "                           - total_change[2016]) \\\n",
    "                           / total_change[2016]\n",
    "    \n",
    "    total_pct_chng_1718 = (total_change[2017]\n",
    "                           - total_change[2016]) \\\n",
    "                           / total_change[2016]\n",
    "    \n",
    "    # absolute percent change for each category each period\n",
    "    pt['pct_chng_1617'] = (pt[2017] - pt[2016]) / pt[2016]\n",
    "    pt['pct_chng_1718'] = (pt[2018] - pt[2017]) / pt[2017]\n",
    "    \n",
    "    \n",
    "    # the relative percent change\n",
    "    pt['rel_pct_chng_1617'] = (pt['pct_chng_1617']\n",
    "                               - total_pct_chng_1617)\n",
    "\n",
    "    pt['rel_pct_chng_1718'] = (pt['pct_chng_1718'] \n",
    "                               -  total_pct_chng_1718)\n",
    "    \n",
    "    \n",
    "    # plotting\n",
    "    \n",
    "    # grid set-up\n",
    "    fig = plt.figure(figsize=(19, 14))\n",
    "    grid = plt.GridSpec(14,19)\n",
    "    \n",
    "    # the pareto chart for 2016-17\n",
    "    ax1 = fig.add_subplot(grid[:6, 10:])\n",
    "    nice_pareto(ax1, d1617, cs1617, metric, cat_name, '2016-17')\n",
    "    \n",
    "    # the pareto chart for 2017-18\n",
    "    ax2 = fig.add_subplot(grid[8:, 10:])\n",
    "    nice_pareto(ax2, d1718, cs1718, metric, cat_name, '2017-18')\n",
    "    \n",
    "    # relative change plot 16-17\n",
    "    ax3 = fig.add_subplot(grid[:6, :9])\n",
    "    relative_change_plot(ax3,\n",
    "                         pt,\n",
    "                         'rel_pct_chng_1617',\n",
    "                         metric,\n",
    "                         cat_name,\n",
    "                         '2016-17')\n",
    "    \n",
    "    #relative change plot 17-18\n",
    "    ax4 = fig.add_subplot(grid[8:, :9])\n",
    "    relative_change_plot(ax4,\n",
    "                         pt,\n",
    "                         'rel_pct_chng_1718',\n",
    "                         metric, cat_name,\n",
    "                         '2017-18')\n",
    "    ;"
   ]
  },
  {
   "cell_type": "markdown",
   "id": "1ea66d90-1cb8-495b-b2e4-53983d7c4830",
   "metadata": {},
   "source": [
    "## Changes in Volume of Requests\n",
    "\n",
    "Below is shown the total volume, or count, of funding requests for the three\n",
    "years in question. In order to determine underlying trends that may be driving\n",
    "this trend of decreasing volume, categorical variables were the most useful.\n",
    "(See [Appendix 1](#Outlier-Organizations) for further details as to why\n",
    "continuous variables were not considered.) Two methods of quantifying how\n",
    "important a specific category of a categorical variable are used. In the first\n",
    "the rate of change in requests of a certain category is compared to the total\n",
    "rate of change in requests to yield a relative rate of decrease. In the second,\n",
    "the absolute decrease in each category is considered, with the goal of\n",
    "identifying which categories explain the greatest amount of the change."
   ]
  },
  {
   "cell_type": "code",
   "execution_count": 9,
   "id": "bbf50281-6a85-4bec-84e8-8ff27a586890",
   "metadata": {},
   "outputs": [
    {
     "ename": "NameError",
     "evalue": "name 'df' is not defined",
     "output_type": "error",
     "traceback": [
      "\u001b[0;31m---------------------------------------------------------------------------\u001b[0m",
      "\u001b[0;31mNameError\u001b[0m                                 Traceback (most recent call last)",
      "\u001b[0;32m/tmp/ipykernel_20067/3163434959.py\u001b[0m in \u001b[0;36m<module>\u001b[0;34m\u001b[0m\n\u001b[0;32m----> 1\u001b[0;31m \u001b[0mdf\u001b[0m\u001b[0;34m[\u001b[0m\u001b[0;34m'funding_year'\u001b[0m\u001b[0;34m]\u001b[0m \u001b[0;34m=\u001b[0m \u001b[0mdf\u001b[0m\u001b[0;34m[\u001b[0m\u001b[0;34m'funding_year'\u001b[0m\u001b[0;34m]\u001b[0m\u001b[0;34m.\u001b[0m\u001b[0mastype\u001b[0m\u001b[0;34m(\u001b[0m\u001b[0;34m'int64'\u001b[0m\u001b[0;34m)\u001b[0m\u001b[0;34m\u001b[0m\u001b[0;34m\u001b[0m\u001b[0m\n\u001b[0m\u001b[1;32m      2\u001b[0m \u001b[0mdf\u001b[0m\u001b[0;34m[\u001b[0m\u001b[0;34m'funding_commitment_request'\u001b[0m\u001b[0;34m]\u001b[0m \u001b[0;34m=\u001b[0m \u001b[0mdf\u001b[0m\u001b[0;34m[\u001b[0m\u001b[0;34m'funding_commitment_request'\u001b[0m\u001b[0;34m]\u001b[0m\u001b[0;34m.\u001b[0m\u001b[0mastype\u001b[0m\u001b[0;34m(\u001b[0m\u001b[0;34m'float64'\u001b[0m\u001b[0;34m)\u001b[0m\u001b[0;34m\u001b[0m\u001b[0;34m\u001b[0m\u001b[0m\n",
      "\u001b[0;31mNameError\u001b[0m: name 'df' is not defined"
     ]
    }
   ],
   "source": [
    "df['funding_year'] = df['funding_year'].astype('int64')\n",
    "df['funding_commitment_request'] = df['funding_commitment_request'].astype('float64')"
   ]
  },
  {
   "cell_type": "code",
   "execution_count": null,
   "id": "066d26a0-847a-41b3-b060-8195c7339f11",
   "metadata": {},
   "outputs": [],
   "source": [
    "n_requests = df.groupby(by='funding_year')['funding_request_number'].count()\n",
    "n_pct_chng_1617 = (n_requests[2017] - n_requests[2016]) / n_requests[2016]\n",
    "n_pct_chng_1718 = (n_requests[2018] - n_requests[2017]) / n_requests[2017]\n",
    "\n",
    "fig = plt.figure(figsize=(9,6))\n",
    "ax = plt.axes()\n",
    "bar1 = ax.bar(n_requests.index, n_requests, color=usac_dark)\n",
    "ax.annotate(f'{round(n_pct_chng_1617 * 100, 2)}%',\n",
    "            (2016.5, (bar1.patches[0].get_height() \n",
    "                      + bar1.patches[1].get_height())/2 ))\n",
    "ax.annotate(f'{round(n_pct_chng_1718 * 100, 2)}%',\n",
    "            (2017.5, (bar1.patches[1].get_height() \n",
    "                      + bar1.patches[2].get_height())/2 ))\n",
    "ax.set_xticks([2016,2017,2018])\n",
    "ax.set_title('Yearly Volume of Funding Requests')\n",
    "ax.set_ylabel('Volume of Funding Requests');"
   ]
  },
  {
   "cell_type": "markdown",
   "id": "31bc90a6-3c06-4e15-9495-d28d790b6e7f",
   "metadata": {
    "tags": []
   },
   "source": [
    "### Service Type\n",
    "Service Type proves to be the most relevant variable to the trend. As shown in\n",
    "the charts below, the volume of requests for the voice service type decreased\n",
    "at a faster rate than the total volume of requests. Indeed, a *much* faster\n",
    "rate of more than 47% for 2017-18. The absolute decrease in voice service\n",
    "requests also made up the vast majority (over 65% and over 90%, respectively)\n",
    "of the total decrease for both years.\n",
    "\n",
    "The combination of both a higher relative rate of change and a significant\n",
    "absolute change make this the most relevant trend to understanding the overall\n",
    "trend in volume."
   ]
  },
  {
   "cell_type": "code",
   "execution_count": null,
   "id": "16a94aa8-0830-4aaf-9cc2-82e38b4fb9c6",
   "metadata": {},
   "outputs": [],
   "source": [
    "master_plot_function(df,\n",
    "                     'form_471_service_type_name',\n",
    "                     'Volume',\n",
    "                     'Service Type')"
   ]
  },
  {
   "cell_type": "markdown",
   "id": "7c982c3e-4e07-4613-ae8b-09cda598515b",
   "metadata": {
    "tags": []
   },
   "source": [
    "### Organization Type\n",
    "The changes in organization type say more about the underlying distribution of\n",
    "requests by organization type than they do about any driving trend. School\n",
    "Districts alone account for as huge a portion of the decrease as voice service\n",
    "requests did, but the relative percent change in school districts was a mere\n",
    "2% in 2016-17 and 6% in 2017-18. This suggests that, *quite unlike* with voice\n",
    "service, the change in school district requests is not indicative of some\n",
    "underlying effect.\n",
    "\n",
    "Another interesting thing to note with this category is the consistently\n",
    "slower decrease of Consortium-based requests. Unfortunately, Consortiums do\n",
    "not make up a significant enough of the actual volume to be in any way\n",
    "explanatory of the general trend."
   ]
  },
  {
   "cell_type": "code",
   "execution_count": null,
   "id": "20c8d306-916a-4e27-b537-28737f92b249",
   "metadata": {},
   "outputs": [],
   "source": [
    "master_plot_function(df,\n",
    "                     'organization_entity_type_name',\n",
    "                     'Volume',\n",
    "                     'Service Type')"
   ]
  },
  {
   "cell_type": "markdown",
   "id": "61171d05-6135-4ebd-9dd6-7b1967f777e4",
   "metadata": {
    "tags": []
   },
   "source": [
    "### Contract Type\n",
    "\n",
    "The trend with contract type is one \"away\" from tariffs and month-to-month\n",
    "and \"towards\" contracts. While all are still decreasing with the general\n",
    "trend, the consistant slower decrease in contract as opposed to the much\n",
    "faster decrease in the others indicated that some change is occuring that\n",
    "makes the former two kinds less favorable than contracts. This effect is\n",
    "shown to be at least somewhat related to the trend in decreasing voice\n",
    "service requests as the correlation between voice service and a\n",
    "contract is -0.46, a moderate inverse relationship. In short, voice services\n",
    "are at least somewhat less likely to have a contract (and thus, presumably\n",
    "somewhat more likely to be month-to-month or tariff), and thus this trend\n",
    "only adds credence to the idea that the overall trend is primarily caused\n",
    "by the E-Rate Modernization."
   ]
  },
  {
   "cell_type": "code",
   "execution_count": null,
   "id": "9c3ab991-1fb7-4c64-b392-73de20543bab",
   "metadata": {},
   "outputs": [],
   "source": [
    "master_plot_function(df,\n",
    "                     'contract_type_name',\n",
    "                     'Volume',\n",
    "                     'Service Type')"
   ]
  },
  {
   "cell_type": "markdown",
   "id": "f81d58df-eb1b-4c26-b556-31b3a0a8536f",
   "metadata": {
    "tags": []
   },
   "source": [
    "## Change in Value of Requests\n",
    "In the most general possible sense, the change in the total value of requests\n",
    "followed the same trend as the change in volume. This makes sense intuitively,\n",
    "as, all else equal, fewer requests would mean fewer dollars requested. If this\n",
    "logic holds, the change in value could be explained in much the same way as\n",
    "the change in volume, as it would merely be a consequence thereof. However,\n",
    "the interesting part here is that the dollar value requested actually\n",
    "decreased at a slower rate."
   ]
  },
  {
   "cell_type": "code",
   "execution_count": null,
   "id": "76ed1952-83be-4f26-8ebc-838f39c71f9d",
   "metadata": {},
   "outputs": [],
   "source": [
    "request_value = df.groupby(by='funding_year')['funding_commitment_request'].sum()\n",
    "\n",
    "val_pct_chng_1617 = (request_value[2017] - request_value[2016])\n",
    "                    / request_value[2016]\n",
    "    \n",
    "val_pct_chng_1718 = (request_value[2018] - request_value[2017])\n",
    "                    / request_value[2017]\n",
    "\n",
    "fig = plt.figure(figsize=(9,6))\n",
    "ax = plt.axes()\n",
    "bar2 = ax.bar(request_value.index, request_value / 10**9, color=usac_dark)\n",
    "ax.annotate(f'{round(val_pct_chng_1617 * 100, 2)}%',\n",
    "            (2016.5, (bar2.patches[0].get_height() \n",
    "                      + bar2.patches[1].get_height())/2 ))\n",
    "ax.annotate(f'{round(val_pct_chng_1718 * 100, 2)}%',\n",
    "            (2017.5, (bar2.patches[1].get_height() \n",
    "                      + bar2.patches[2].get_height())/2 ))\n",
    "\n",
    "ax.set_xticks([2016,2017,2018])\n",
    "ax.set_title('Yearly Dollar Value Requested')\n",
    "ax.set_ylabel('Billions USD');"
   ]
  },
  {
   "cell_type": "markdown",
   "id": "fd10219f-db63-4024-a487-8a189bb9a7d2",
   "metadata": {},
   "source": [
    "### Accounting for Organization Size\n",
    "The primary reason this rate of change is so different from that of the volume\n",
    "of requests is the outsized effect of extremely large organizations and their\n",
    "individual decisions on the total value requested. Below is a kernel density\n",
    "estimate illustrating the extreme skew of the distribution of organizations\n",
    "by the amount of funding they requested over the entire period."
   ]
  },
  {
   "cell_type": "code",
   "execution_count": null,
   "id": "26293421-b684-4165-90a7-72b958bf46ce",
   "metadata": {},
   "outputs": [],
   "source": [
    "orgs_val = df.groupby(by='organization_name') \\\n",
    "['funding_commitment_request'].sum()\n",
    "\n",
    "fig = plt.figure(figsize=(9,6))\n",
    "ax = plt.axes()\n",
    "sns.kdeplot(orgs_val / 10**6, ax=ax, fill=True, color=usac_dark)\n",
    "ax.set_title('Distribution of Funding Request Value')\n",
    "ax.set_xlabel('Funding Requested (Millions USD)')\n",
    "ax.set_ylabel('Density');"
   ]
  },
  {
   "cell_type": "code",
   "execution_count": null,
   "id": "0900b94b-3b29-49f8-8fd8-b85bd1e76284",
   "metadata": {
    "tags": []
   },
   "outputs": [],
   "source": [
    "orgs_val_yr = df.pivot_table('funding_commitment_request',\n",
    "                             columns='funding_year',\n",
    "                             index='organization_name',\n",
    "                             aggfunc='sum',\n",
    "                             margins=True) \\\n",
    ".sort_values(by='All',ascending=False)\n",
    "orgs_val_yr.fillna(0, inplace=True)\n",
    "orgs_val_yr.drop('All', axis = 0, inplace=True)"
   ]
  },
  {
   "cell_type": "code",
   "execution_count": null,
   "id": "e8fd7847-72d3-4267-9fe2-2ef8163e86df",
   "metadata": {
    "tags": []
   },
   "outputs": [],
   "source": [
    "# categories for organization size\n",
    "df['organization_size'] = 'Small'\n",
    "\n",
    "df.loc[(\n",
    "    df['organization_name'].isin(orgs_val_yr[(orgs_val_yr['All']\n",
    "    >= orgs_val.quantile(0.9))].index)\n",
    "), 'organization_size'] = 'Large'\n",
    "\n",
    "df.loc[(\n",
    "    df['organization_name'].isin(orgs_val_yr[(orgs_val_yr['All']\n",
    "    >= orgs_val.quantile(0.99))].index)),\n",
    "    'organization_size'] = 'Very Large'\n",
    "\n",
    "df.loc[(\n",
    "    df['organization_name'].isin(orgs_val_yr[(orgs_val_yr['All']\n",
    "    >= orgs_val.quantile(0.999))].index)),\n",
    "    'organization_size'] = 'Outlier'"
   ]
  },
  {
   "cell_type": "markdown",
   "id": "c58c22e2-d5f7-4b37-8bcc-c4ed8c883726",
   "metadata": {},
   "source": [
    "In light of this, it was necessary to categorize organizations by size. The\n",
    "number of organizations in each category is presented in the table below. The\n",
    "definition of each category is as follows:\n",
    "\n",
    "- \"Small\" organizations are the bottom 90% of requestors.\n",
    "- \"Large\" organizations are from 90-99%.\n",
    "- \"Very Large\" organizations are from 99-99.9%\n",
    "- \"Outlier\" organizations are the top 0.1% of requestors."
   ]
  },
  {
   "cell_type": "code",
   "execution_count": null,
   "id": "5aba5c08-a6c9-4fbb-927e-4b92d026904d",
   "metadata": {},
   "outputs": [],
   "source": [
    "df['organization_size'].value_counts()"
   ]
  },
  {
   "cell_type": "markdown",
   "id": "9a0d65de-24e5-4a4b-b510-dcd035794ff2",
   "metadata": {},
   "source": [
    "The donut charts below illustrate just how massive the impact of the\n",
    "largest organizations is on the total value requested. Together, the\n",
    "top 10% of organizations made 28% of the requests by volume, but accounted\n",
    "for a whopping 76% of the requests by value."
   ]
  },
  {
   "cell_type": "code",
   "execution_count": null,
   "id": "cb3b4ea2-85d4-41f3-b7ff-76d9a5bcc121",
   "metadata": {
    "tags": []
   },
   "outputs": [],
   "source": [
    "large_requests = \n",
    "    df.groupby(by='organization_size')['funding_commitment_request'].sum()\n",
    "    \n",
    "large_requestors = \n",
    "    df.groupby(by='organization_size')['funding_request_number'].count()"
   ]
  },
  {
   "cell_type": "code",
   "execution_count": null,
   "id": "51a3e683-8146-463c-9e77-76963dda295f",
   "metadata": {},
   "outputs": [],
   "source": [
    "def nice_donut(ax, pt, title, mvpct='no'):\n",
    "    '''Makes a donut chart from a binary category for the express purpose\n",
    "    of not having the same code typed out twice'''\n",
    "    wedges, texts, autopct = ax.pie(pt,\n",
    "                       wedgeprops = {'width':0.25, 'edgecolor':'black'},\n",
    "                       colors=[usac_dark, banner_yellow, usac_light, usac_grey],\n",
    "                       startangle=0,\n",
    "                       autopct='%1.1f%%'\n",
    "                      )\n",
    "    \n",
    "    if mvpct == 'yes':\n",
    "        wedge = wedges[1]\n",
    "        txt = autopct[1]\n",
    "        # the angle at which the text is located\n",
    "        ang = (wedge.theta2 + wedge.theta1) / 2.\n",
    "        x = wedge.r * 1.1 * np.cos(ang*np.pi/180)\n",
    "        y = wedge.r * 1.1 * np.sin(ang*np.pi/180)\n",
    "        txt.set_position((x, y))\n",
    "        \n",
    "        wedge = wedges[3]\n",
    "        txt = autopct[3]\n",
    "        # the angle at which the text is located\n",
    "        ang = (wedge.theta2 + wedge.theta1) / 2.\n",
    "        x = wedge.r * 1.1 * np.cos(ang*np.pi/180)\n",
    "        y = wedge.r * 1.1 * np.sin(ang*np.pi/180)\n",
    "        txt.set_position((x, y))\n",
    "\n",
    "    \n",
    "    ax.legend(wedges, pt.index,\n",
    "          title='Organization Size',\n",
    "          loc='center'\n",
    "         )\n",
    "\n",
    "    ax.set_title(title);"
   ]
  },
  {
   "cell_type": "code",
   "execution_count": null,
   "id": "357e2a91-e673-48cd-b49b-38606fff34c7",
   "metadata": {},
   "outputs": [],
   "source": [
    "fig = plt.figure(figsize=(12,6))\n",
    "grid = plt.GridSpec(5,10, wspace=0.5)\n",
    "\n",
    "ax1 = fig.add_subplot(grid[:,:5])\n",
    "nice_donut(ax1, large_requestors,\n",
    "           'Request Volume by Organization Size',\n",
    "          mvpct='yes')\n",
    "\n",
    "ax2 = fig.add_subplot(grid[:, 4:])\n",
    "nice_donut(ax2, large_requests,\n",
    "           'Request Value by Organization Size')"
   ]
  },
  {
   "cell_type": "markdown",
   "id": "09fcb0fb-29ee-42ed-8932-7a4e50f199db",
   "metadata": {},
   "source": [
    "In order to gauge the degree to which each size category of organization\n",
    "fits with the general trend of values decreasing, a view of the initial\n",
    "chart depicting the overall yearly trend is reproduced below for each.\n",
    "From this, it is clear that Outliers, which, again, account for 19% of the\n",
    "total value, do not follow the overall trend at all. Very Large organizations\n",
    "also show a departure from the general trend, by remaining almos the same for\n",
    "2017-18."
   ]
  },
  {
   "cell_type": "code",
   "execution_count": null,
   "id": "03748100-dc65-4f9a-82f5-046519fc824f",
   "metadata": {},
   "outputs": [],
   "source": [
    "def value_bar(ax, df, request_size,):\n",
    "    '''Recreate the bar chart for yearly value change but filtered to\n",
    "    a specific size category'''\n",
    "    request_value = df[(df['organization_size'] == request_size)] \\\n",
    "    .groupby(by='funding_year') \\\n",
    "    ['funding_commitment_request'] \\\n",
    "    .sum()\n",
    "    \n",
    "    val_pct_chng_1617 = (request_value[2017] - request_value[2016])\n",
    "                        / request_value[2016]\n",
    "        \n",
    "    val_pct_chng_1718 = (request_value[2018] - request_value[2017]) \n",
    "                        / request_value[2017]\n",
    "\n",
    "    bar2 = ax.bar(request_value.index, request_value / 10**9, color=usac_light)\n",
    "    ax.annotate(f'{round(val_pct_chng_1617 * 100, 2)}%',\n",
    "                (2016.5, (bar2.patches[0].get_height() \n",
    "                          + bar2.patches[1].get_height())/2 ))\n",
    "    ax.annotate(f'{round(val_pct_chng_1718 * 100, 2)}%',\n",
    "                (2017.5, (bar2.patches[1].get_height() \n",
    "                          + bar2.patches[2].get_height())/2 ))\n",
    "\n",
    "    ax.set_xticks([2016,2017,2018])\n",
    "    ax.set_title(f'Yearly Dollar Value Requested ({request_size})')\n",
    "    ax.set_ylabel('Billions USD');"
   ]
  },
  {
   "cell_type": "code",
   "execution_count": null,
   "id": "fe171c48-9394-4043-8c7b-1961df97f5d5",
   "metadata": {
    "tags": []
   },
   "outputs": [],
   "source": [
    "fig = plt.figure(figsize=(13,10))\n",
    "grid = plt.GridSpec(10,13)\n",
    "\n",
    "ax1 = fig.add_subplot(grid[:5,:6])\n",
    "value_bar(ax1, df, 'Small')\n",
    "\n",
    "ax2 = fig.add_subplot(grid[:5, 7:])\n",
    "value_bar(ax2, df, 'Large')\n",
    "\n",
    "ax3 = fig.add_subplot(grid[6:, :6])\n",
    "value_bar(ax3, df, 'Very Large')\n",
    "\n",
    "\n",
    "ax4 = fig.add_subplot(grid[6:, 7:])\n",
    "value_bar(ax4, df, 'Outlier')"
   ]
  },
  {
   "cell_type": "markdown",
   "id": "a79b860d-5361-40d3-b2c1-ef71acdb1d69",
   "metadata": {},
   "source": [
    "All of this is evidence that the impact of extremely large organizations is the\n",
    "primary reason behind the difference in rates of volume and value decrease. In light\n",
    "of that, the next portions, which examine the same categorical variables as were\n",
    "analyzed for volume, use only Small and Large organizations, or the bottom 99%."
   ]
  },
  {
   "cell_type": "code",
   "execution_count": null,
   "id": "b937ad7d-7c6d-4dfd-9ebc-91b9e965a9c4",
   "metadata": {
    "tags": []
   },
   "outputs": [],
   "source": [
    "mask = (df['organization_size'] == 'Large') | (df['organization_size'] == 'Small')"
   ]
  },
  {
   "cell_type": "markdown",
   "id": "86bfaab5-796e-4ee8-a741-f50814c1611a",
   "metadata": {},
   "source": [
    "### Service Type\n",
    "The extremely well-supported trend caused by the voice service requests\n",
    "being phased out intentionally holds true for value as well as volume.\n",
    "\n",
    "What is surprising here, however, is Internal Connections. While this can\n",
    "mostly be explained by Internal Connections being the highest value category\n",
    "in general of service type, as evidenced by the lower relative rate of decrease\n",
    "compared to voice, but higher absolute decrease, some exogenous shock must still\n",
    "have occured in 2016-17 to account for the sheer scope of internal connections\n",
    "requests decreasing. This would be an interesting topic for further analysis, but\n",
    "was outside the breadth of this report."
   ]
  },
  {
   "cell_type": "code",
   "execution_count": null,
   "id": "fdbf819b-80b0-4f5d-a430-0ad418399df8",
   "metadata": {
    "tags": []
   },
   "outputs": [],
   "source": [
    "master_plot_function(df[mask],\n",
    "                     'form_471_service_type_name',\n",
    "                     'Value',\n",
    "                     'Service Type')"
   ]
  },
  {
   "cell_type": "markdown",
   "id": "aa4b75b6-48e7-4f30-95f7-656c22fc2523",
   "metadata": {
    "tags": []
   },
   "source": [
    "### Organization Type\n",
    "Unsurprisingly, for ogranization type school districts were again the largest\n",
    "absolute change by far. This can be attributed both to the sheer volume of\n",
    "school district requests, as shown in the previous section, and the greater\n",
    "average funding requested by school districts, which tend to be larger entities \n",
    "than organizations of other types."
   ]
  },
  {
   "cell_type": "code",
   "execution_count": null,
   "id": "4227de6f-7c82-4635-adcf-4bec43310369",
   "metadata": {},
   "outputs": [],
   "source": [
    "master_plot_function(df[mask],\n",
    "                     'organization_entity_type_name',\n",
    "                     'Value',\n",
    "                     'Organization Type')"
   ]
  },
  {
   "cell_type": "markdown",
   "id": "464a2594-012a-4723-840d-2135d61afee4",
   "metadata": {},
   "source": [
    "### Contact Type\n",
    "For contracts, the trend discovered when looking at volume also appears to\n",
    "hold true overall, including the characteristic of being significantly less\n",
    "pronounced in 2016-17 than in 2017-18."
   ]
  },
  {
   "cell_type": "code",
   "execution_count": null,
   "id": "e772efcf-5b94-481e-b632-5bcf36b40554",
   "metadata": {},
   "outputs": [],
   "source": [
    "master_plot_function(df[mask],\n",
    "                     'contract_type_name',\n",
    "                     'Value',\n",
    "                     'Contract Type')"
   ]
  },
  {
   "cell_type": "markdown",
   "id": "377c1ca9-c1df-4cbf-a948-e047eacd7cda",
   "metadata": {},
   "source": [
    "## Conclusion\n",
    "\n",
    "Overall, the main takeways from looking at the year on year changes in\n",
    "the quantity and dollar value of E-Rate funding requests are:\n",
    "- Voice requests are driving the decrease, and this is because of E-Rate Modernization\n",
    "- The distribution of organization types does not change substantially\n",
    "- Contract types are changing in accordance with the propensity for voice services to involve month-to-month or tariff contracts\n",
    "- The top 1% of organizations and their non-systemic effects account for the difference in rates of decrease between volume and value."
   ]
  },
  {
   "cell_type": "markdown",
   "id": "37fb5098-2392-4174-ba42-734443a9f7cf",
   "metadata": {},
   "source": [
    "## Apendicies"
   ]
  },
  {
   "cell_type": "markdown",
   "id": "8597095e-b24d-4557-8111-db0e558f3498",
   "metadata": {},
   "source": [
    "### Outlier Organizations\n",
    "\n",
    "This table shows the \"outlier\" organizations by year. Note the tendency for such\n",
    "organizations to have excessive costs in *only* a single year, before going back\n",
    "down to almost zero (in some cases). This is indicative of massive one-time projects."
   ]
  },
  {
   "cell_type": "code",
   "execution_count": null,
   "id": "1e83c169-9d24-4b95-9cc6-9468c10c3a1d",
   "metadata": {},
   "outputs": [],
   "source": [
    "round(orgs_val_yr[(orgs_val_yr['All'] >= orgs_val.quantile(0.999))] / 10**6, 2)"
   ]
  },
  {
   "cell_type": "markdown",
   "id": "0e033b6a-7a6e-4bf5-8b3e-a54ebb2c880e",
   "metadata": {},
   "source": [
    "### Continuous Variables\n",
    "The many continous (numeric) variables in the dataset also\n",
    "exhibited some change over the years. Since most of them are\n",
    "cost related, however, there is extreme skew. Categorical variables\n",
    "made for a much more coherent narrative and comprehensible analysis.\n",
    "\n",
    "The year on year changes in some summary statistics for the continuous\n",
    "variables is reproduced below.\n",
    "\n",
    "The increasing discount percent and corresponding increasing pre-discount\n",
    "costs was interesting, but they roughly cancel each other out, so it was\n",
    "not going to be explicative of the trend in value.\n",
    "\n",
    "The one-time costs vs. recurring costs was also just potentially interesting\n",
    "in general, especially once the trend of massive outlier one-time projects\n",
    "alluded to above was discovered."
   ]
  },
  {
   "cell_type": "code",
   "execution_count": null,
   "id": "b37eaf00-52b3-4a1d-9581-d5c71349472e",
   "metadata": {},
   "outputs": [],
   "source": [
    "cont = [\n",
    "    \"bid_count\",\n",
    "    \"total_monthly_recurring_cost\",\n",
    "    \"total_monthly_recurring_ineligible_costs\",\n",
    "    \"total_monthly_recurring_eligible_costs\",\n",
    "    \"months_of_service\",\n",
    "    \"total_pre_discount_eligible_recurring_costs\",\n",
    "    \"total_one_time_costs\",\n",
    "    \"total_ineligible_one_time_costs\",\n",
    "    \"total_pre_discount_eligible_one_time_costs\",\n",
    "    \"total_pre_discount_costs\",\n",
    "    \"dis_pct\"\n",
    "]\n",
    "\n",
    "df[cont] = df[cont].astype('float64')\n",
    "\n",
    "cont_groupby_dict = {}\n",
    "\n",
    "for col in cont:\n",
    "    gb = df.groupby(by='funding_year')[col].agg([\n",
    "        'median',\n",
    "        'mean',\n",
    "        'skew',\n",
    "    ])\n",
    "    print(col)\n",
    "    print(round(gb,2))\n",
    "    print('\\n\\n')"
   ]
  },
  {
   "cell_type": "markdown",
   "id": "95c7b494-b579-4528-a51b-7619e8a0cc38",
   "metadata": {},
   "source": [
    "This scatterplot illustrates the low overlap between one-time and\n",
    "recurring costs. From it can be seen that there really is a phenomenon\n",
    "of massive one-time projects (with outliers appearing to be 3-6x the size of\n",
    "outliers for recurring costs)."
   ]
  },
  {
   "cell_type": "code",
   "execution_count": null,
   "id": "87254e86-091b-46cc-8242-2f021ea63e22",
   "metadata": {
    "tags": []
   },
   "outputs": [],
   "source": [
    "fig = plt.figure(figsize=(9,6))\n",
    "ax = plt.axes()\n",
    "ax.scatter(df['total_one_time_costs'] / 10**6,\n",
    "           df['total_monthly_recurring_cost'] / 10**6,\n",
    "           marker='o', c=usac_dark, s=5)\n",
    "ax.set_title('Low Overlap between One-time and Recurring costs')\n",
    "ax.set_ylabel('Total Monthly Recurring Costs \\n\\\n",
    "(Millions USD)')\n",
    "ax.set_xlabel('Total One-time Costs\\n\\\n",
    "(Millions USD)');"
   ]
  },
  {
   "cell_type": "markdown",
   "id": "fe09bdac-d94c-44a3-9383-2190b0592468",
   "metadata": {},
   "source": [
    "### Voice and Contract Correlation"
   ]
  },
  {
   "cell_type": "code",
   "execution_count": null,
   "id": "90087e12-bb44-4343-9111-2f646ca79360",
   "metadata": {
    "tags": []
   },
   "outputs": [],
   "source": [
    "df['is_voice'] = 0\n",
    "df.loc[(df['form_471_service_type_name'] == 'Voice'), 'is_voice'] = 1\n",
    "\n",
    "df['is_contract'] = 0\n",
    "df.loc[(df['contract_type_name'] == 'Contract'), 'is_contract'] = 1\n",
    "\n",
    "print(df['is_voice'].corr(df['is_contract']))"
   ]
  }
 ],
 "metadata": {
  "kernelspec": {
   "display_name": "Python 3 (ipykernel)",
   "language": "python",
   "name": "python3"
  },
  "language_info": {
   "codemirror_mode": {
    "name": "ipython",
    "version": 3
   },
   "file_extension": ".py",
   "mimetype": "text/x-python",
   "name": "python",
   "nbconvert_exporter": "python",
   "pygments_lexer": "ipython3",
   "version": "3.8.10"
  },
  "toc-autonumbering": false,
  "toc-showcode": false,
  "toc-showmarkdowntxt": false,
  "toc-showtags": false
 },
 "nbformat": 4,
 "nbformat_minor": 5
}
