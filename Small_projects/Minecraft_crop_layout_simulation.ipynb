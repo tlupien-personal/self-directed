{
 "cells": [
  {
   "cell_type": "markdown",
   "id": "5a536d84-2110-4b0a-b843-b6a4ca6cffb6",
   "metadata": {
    "tags": []
   },
   "source": [
    "# Minecraft Crop Layout Efficiency Simulator\n",
    "## By: Tim Lupien"
   ]
  },
  {
   "cell_type": "markdown",
   "id": "a9c26ff8-cc65-416d-9023-59fdfe09ed90",
   "metadata": {
    "tags": []
   },
   "source": [
    "## Background Information"
   ]
  },
  {
   "cell_type": "markdown",
   "id": "cd4a5320-1041-4753-9409-48d047a69a09",
   "metadata": {
    "tags": []
   },
   "source": [
    "This notebook is designed to find the frequency at which to harvest Minecraft crops of an arbitrary kind in an arbitrary layout to maximize the crop yield per hour. Before getting into the code, I will briefly outline some of the underlying concepts.\n",
    "\n",
    "### Random Ticks\n",
    "Most crops in minecraft are governed by a game mechanic called the **random tick**. In Java edition (the focus of my analysis), 3 random ticks ocurr at random positions within a chunk section every 1/20 of a second. A **chunk section** is a 16 by 16 by 16 group of blocks. Note that air (empty) blocks *are* counted for this purpose.\n",
    "\n",
    "### Growth Stages\n",
    "For crops that stay the same size (wheat, beetroot, carrots, potatoes, abbreviated WBCP), the crop has a certain number of **growth stages**. Each time the crop is hit with a random tick, there is *the possibility* that its growth stage will increase by 1. Once the crop reaches its maximum growth stage, it is ready to be harvested.\n",
    "\n",
    "For crops that actually increase their size in terms of blocks tall (sugarcane, cactus, bamboo, and kelp), the concept of growth stages still generally applies, but with the additional caveat that height determines the benefit of harvesting such a crop. So while a sugarcane can become 3 crops tall, you could still harvest it when it was 2 crops tall and just get (1) fewer sugarcane.\n",
    "\n",
    "In light of this, I use the convention that each *harvest-relevant* quantity of growth will be worth one (1). Thus each time wheat, which has 8 growth stages, is hit with a *successful* random tick, the figure representing its growth will increase by 1/8, to a maximum of 1, while sugarcane, which takes 16 growth stages to increase in height by 1, will grow by 1/16, to a maximum of 3.\n",
    "\n",
    "### Growth Probability\n",
    "I mentioned earlier that on each random tick there is *the possibility* of a growth stage increase. For some crops, this is represented by a pre-determined probability, but for others (WBCP) it is what I call **lookup-based**. Lookup-based growth calculates a number of \"points\" to pass to a formula which determines the growth probability based on these rules:\n",
    "- \\+ 2 / \\+ 4 points for being planted on dry / hydrated farmland\n",
    "- \\+ 0.25 / \\+ 0.75 points for each adjacent crop that is dry / hydrated farmland\n",
    "- points are halved ( / 2) if:\n",
    "    - any diagonally adjacent bock has the same crop planted on it\n",
    "    - any combination of vertically or horizontally adjacent crops have the same crop planted in them\n",
    "    \n",
    "Points are an input (p) to this formula:\n",
    "$$ \\left(\\frac{1}{\\lfloor\\frac{25}{p} \\rfloor + 1}\\right)$$\n",
    "Which gives the growth probability for that crop under the specific circumstances.\n",
    "\n",
    "### Farm Layouts\n",
    "I create a layout as an array of integers representing each crop / hydration combination, which are associated to the relevant factors for simulation (hydration status, starting growth stage, growth stage size, growth probability, and maximum growth).\n",
    "\n",
    "Furthermore, due to the lookup-based growth's reliance on adjacent blocks, crops on the edges of the layout need some information about blocks outside of the layout. To deal with this, there will be a uniform assumption that the border of the farm is non-farmland blocks.\n",
    "\n",
    "All of this information is from https://minecraft.fandom.com/wiki/Tutorials/Crop_farming and other pages on the same website."
   ]
  },
  {
   "cell_type": "markdown",
   "id": "bf0548fa-3d91-482c-981a-31f593f95e5d",
   "metadata": {
    "tags": []
   },
   "source": [
    "## Implementation:"
   ]
  },
  {
   "cell_type": "code",
   "execution_count": 1,
   "id": "7d05f8bd-0d3c-493d-b476-4575215fb119",
   "metadata": {},
   "outputs": [],
   "source": [
    "#setup chunk\n",
    "%matplotlib inline\n",
    "import matplotlib.pyplot as plt\n",
    "\n",
    "import numpy as np\n",
    "np.set_printoptions(linewidth = 4096)\n",
    "\n",
    "import itertools as it"
   ]
  },
  {
   "cell_type": "code",
   "execution_count": 2,
   "id": "2add4a78-083c-4e80-8d2a-ecd1d6ec73dd",
   "metadata": {},
   "outputs": [],
   "source": [
    "# Format:\n",
    "# ID : [Hydration Status,\n",
    "# Starting Growth Stage,\n",
    "# Growth Stage Size,\n",
    "# Growth Probability,\n",
    "# Maximum Growth]\n",
    "\n",
    "crop_dict = {\n",
    "    1  : [False, 0, 1/8, 'L',    1],   # wheat\n",
    "    2  : [False, 0, 1/4, 'L',    1],   # beetroot\n",
    "    3  : [False, 0, 1/8, 'L',    1],   # carrot\n",
    "    4  : [False, 0, 1/8, 'L',    1],   # potato\n",
    "    5  : [False, 1, 1/16, 1,     3],   # sugarcane\n",
    "    6  : [False, 1, 1/16, 1,     3],   # cactus\n",
    "    7  : [False, 1, 1/3,  1,    'B'],  # bamboo\n",
    "    8  : [False, 1, 1,    0.14, 'K'],  # kelp\n",
    "    11 : [True,  0, 1/8, 'L',    1],   # same order as above,\n",
    "    12 : [True,  0, 1/4, 'L',    1],   # but hydrated versions\n",
    "    13 : [True,  0, 1/8, 'L',    1],\n",
    "    14 : [True,  0, 1/8, 'L',    1],\n",
    "    15 : [True,  1, 1/16, 1,     3],\n",
    "    16 : [True,  1, 1/16, 1,     3],\n",
    "    17 : [True,  1, 1/3,  1,    'B'],\n",
    "    18 : [True,  1, 1,    0.14, 'K'],\n",
    "    0  : [np.NaN, np.NaN, np.NaN, np.NaN, np.NaN]  # placeholder\n",
    "}"
   ]
  },
  {
   "cell_type": "code",
   "execution_count": 3,
   "id": "3a6bfc60-4f0c-49cd-9323-fb4cce81c655",
   "metadata": {},
   "outputs": [],
   "source": [
    "def get_start_state(layout, crop_dict = crop_dict):\n",
    "    '''This looks up the starting growth for each crop in the layout,\n",
    "    creating an array where the index of a crop can be used to\n",
    "    reference its growth rate.'''\n",
    "    \n",
    "    start_state = []\n",
    "    for row in layout:\n",
    "        for crop in row:\n",
    "                start_state.append(crop_dict[crop][1])\n",
    "    start_state = np.array(start_state).reshape(layout.shape)\n",
    "    return start_state\n",
    "    "
   ]
  },
  {
   "cell_type": "code",
   "execution_count": 4,
   "id": "3bc92cf3-7fa3-4321-b30b-56bc47dd1922",
   "metadata": {},
   "outputs": [],
   "source": [
    "def get_growth_prob(layout, crop_dict = crop_dict):\n",
    "    '''This creates an array of probabilities where the index of the\n",
    "    crop can be used to reference its probability of growing upon\n",
    "    being hit with a random tick.'''\n",
    "    \n",
    "    growth_prob = []\n",
    "    for i in range(layout.shape[0]):\n",
    "        for j in range(layout.shape[1]):\n",
    "            \n",
    "            crop = layout[i,j]\n",
    "            \n",
    "            # lookup-based probabilities\n",
    "            if crop_dict[crop][3] == 'L':\n",
    "\n",
    "                # finding the adjacent crops\n",
    "\n",
    "                adj_finder = list(it.product([-1,0,1], repeat = 2))\n",
    "                adj_finder = adj_finder[:4] + adj_finder[5:] # remove middle\n",
    "                \n",
    "                adj = []\n",
    "                for k in adj_finder:\n",
    "                    coords = tuple(np.array([i,j]) + np.array(k))\n",
    "                    \n",
    "                    # for edges, count the adjacent block as 0\n",
    "                    if 0 <= coords[0] < layout.shape[0]\\\n",
    "                    and 0 <= coords[1] < layout.shape[1]:\n",
    "                        adj.append(layout[coords])\n",
    "                        \n",
    "                    else:\n",
    "                        adj.append(0)\n",
    "\n",
    "                neighbors = adj\n",
    "                diagonals = [adj[0],adj[2],adj[5],adj[7]]\n",
    "\n",
    "                # calculating points for probability formula\n",
    "                p = 0\n",
    "\n",
    "                # hydration\n",
    "                if crop_dict[crop][0]:\n",
    "                    p += 4\n",
    "                else:\n",
    "                    p += 2\n",
    "\n",
    "                # adjacent hydration\n",
    "                for adj_crop in neighbors:\n",
    "                    if adj_crop == 0:\n",
    "                        pass\n",
    "                    elif crop_dict[adj_crop][0]:\n",
    "                        p += 0.75\n",
    "                    else:\n",
    "                        p += 0.25\n",
    "\n",
    "                # layout conditions        \n",
    "                bad_planting = False\n",
    "\n",
    "                # diagonals\n",
    "                if any([diag_crop == crop for diag_crop in diagonals]):\n",
    "                    bad_planting = True\n",
    "\n",
    "                # horizontal and vertical mix    \n",
    "                if adj[1] == crop and adj[4] == crop:\n",
    "                    bad_planting = True\n",
    "\n",
    "                if adj[1] == crop and adj[3] == crop:\n",
    "                    bad_planting = True\n",
    "\n",
    "                if adj[6] == crop and adj[4] == crop:\n",
    "                    bad_planting = True\n",
    "\n",
    "                if adj[6] == crop and adj[3] == crop:\n",
    "                    bad_planting = True\n",
    "\n",
    "                # halving p (if applicable)\n",
    "                if bad_planting:\n",
    "                    p = p / 2\n",
    "\n",
    "                # final growth rate\n",
    "                growth_rate = (1/(25 // p + 1))\n",
    "                growth_prob.append(growth_rate)\n",
    "\n",
    "                # non-lookup probabilities\n",
    "            else:\n",
    "                 growth_prob.append(crop_dict[crop][3])\n",
    "                                       \n",
    "    growth_prob = np.array(growth_prob).reshape(layout.shape)\n",
    "    return growth_prob                                       "
   ]
  },
  {
   "cell_type": "code",
   "execution_count": 5,
   "id": "15c33ed1-00b2-49d7-b6d7-195e2c7590dd",
   "metadata": {},
   "outputs": [],
   "source": [
    "def get_stage_size(layout, crop_dict = crop_dict):\n",
    "    '''Creates reference array for the what number to add when a growth\n",
    "    stage is added (index matches layout index of crop)'''\n",
    "    \n",
    "    stage_size = []\n",
    "    for row in layout:\n",
    "        for crop in row:\n",
    "                stage_size.append(crop_dict[crop][2])\n",
    "    stage_size = np.array(stage_size).reshape(layout.shape)\n",
    "    return stage_size"
   ]
  },
  {
   "cell_type": "code",
   "execution_count": 6,
   "id": "85098047-98fa-4068-a475-01a3fa53fa20",
   "metadata": {},
   "outputs": [],
   "source": [
    "def get_max_growth(layout, crop_dict = crop_dict):\n",
    "    '''Creates reference array containing each crop's max growth.'''\n",
    "    \n",
    "    max_growth = []\n",
    "    for row in layout:\n",
    "        for crop in row:\n",
    "            if crop_dict[crop][4] == 'B':\n",
    "                max_growth.append(np.random.randint(12,17))\n",
    "            elif crop_dict[crop][4] == 'K':\n",
    "                max_growth.append(26 - np.random.randint(25))\n",
    "            else:\n",
    "                max_growth.append(crop_dict[crop][4])\n",
    "    max_growth = np.array(max_growth).reshape(layout.shape)\n",
    "    return max_growth"
   ]
  },
  {
   "cell_type": "code",
   "execution_count": 7,
   "id": "502fcbcf-23cc-4126-906e-814be687566c",
   "metadata": {},
   "outputs": [],
   "source": [
    "def to_section(layout):\n",
    "    '''Create a 3d array where the layout occupies the rows and columns\n",
    "    at the lowest index (technically the top left of the bottom \"pane\")\n",
    "    for use in simulating all of the randomticks that would land on\n",
    "    air. As the section will be put through randomticks recursively, it\n",
    "    uses the start state reference array, rather than the actual\n",
    "    layout.'''\n",
    "    \n",
    "    start_state = get_start_state(layout)\n",
    "    # if smaller than 16 by 16:\n",
    "    n_new_row = 16 - start_state.shape[0]\n",
    "    n_new_col = 16 - start_state.shape[1]\n",
    "    \n",
    "    new_row = np.full(start_state.shape[1], np.NaN)\n",
    "    for _ in range(n_new_row):\n",
    "        start_state = np.vstack([start_state, new_row])\n",
    "    \n",
    "    new_col = np.full(start_state.shape[0], np.NaN)[:,np.newaxis]\n",
    "    for _ in range(n_new_col):\n",
    "        start_state = np.hstack([start_state, new_col])\n",
    "        \n",
    "    rest_of_section = np.full([16,16,15], np.NaN)\n",
    "    section = np.dstack([start_state, rest_of_section])\n",
    "                      \n",
    "    return section"
   ]
  },
  {
   "cell_type": "code",
   "execution_count": 8,
   "id": "9813b783-118a-405c-bfa0-72106f5b6d81",
   "metadata": {},
   "outputs": [],
   "source": [
    "def randomtick(section, growth_prob, stage_size, max_growth, tick_rate = 3):\n",
    "    '''Each call of this function will simulate one game-tick's worth\n",
    "    (the tick rate) of randomticks on a section. If randomticks land on\n",
    "    non-empty places, there is a chance determined by the growth_prob\n",
    "    reference array that the number contained in the space will be\n",
    "    incremented by the number in the stage_size reference array. Each\n",
    "    space is capped by its corresponding max growth in that array.'''\n",
    "    \n",
    "    previous_ticks = []\n",
    "    for i in range(tick_rate):\n",
    "        \n",
    "        # pick a block to tick\n",
    "        while True:\n",
    "            tick_index = tuple(np.random.choice(np.arange(16), 3, replace=True))\n",
    "            if tick_index not in previous_ticks:\n",
    "                break\n",
    "        previous_ticks.append(tick_index)\n",
    "        ticked_block = section[tick_index]\n",
    "        \n",
    "        # ignore if empty\n",
    "        if np.isnan(ticked_block):\n",
    "            continue\n",
    "        \n",
    "        else:\n",
    "            flat_index = (tick_index[0], tick_index[1]) # just 2d,\n",
    "            # ^for reference arrays\n",
    "            \n",
    "            # growth applied\n",
    "            growth_success = np.random.binomial(1, growth_prob[flat_index])\n",
    "            \n",
    "            if growth_success == 1:\n",
    "                ticked_block += stage_size[flat_index]\n",
    "            \n",
    "            # max growth cap\n",
    "            if ticked_block > max_growth[flat_index]:\n",
    "                ticked_block = max_growth[flat_index]\n",
    "                \n",
    "            section[tick_index] = ticked_block # update complete\n",
    "            \n",
    "    return section"
   ]
  },
  {
   "cell_type": "code",
   "execution_count": 9,
   "id": "de298785-8452-469a-9b30-1f089d9e24cb",
   "metadata": {},
   "outputs": [],
   "source": [
    "def single_sim(layout):\n",
    "    '''This function runs a single simulation given the layout,\n",
    "    applying randomticks to the section until all crops are fully\n",
    "    grown. It returns an array of growth beyond the initial state at\n",
    "    each iteration.'''\n",
    "    \n",
    "    # setup\n",
    "    section = to_section(layout)\n",
    "    starting_growth = np.nansum(section // 1)\n",
    "    growth_prob = get_growth_prob(layout)\n",
    "    stage_size = get_stage_size(layout)\n",
    "    max_growth = get_max_growth(layout)\n",
    "    \n",
    "    # run the section through simulation\n",
    "    growth_tracking = []\n",
    "    while np.nansum(section) != np.nansum(max_growth):\n",
    "        section = randomtick(section, growth_prob, stage_size, max_growth)\n",
    "        growth_tracking.append((np.nansum(section // 1) - starting_growth))\n",
    "        \n",
    "    growth_tracking = np.array(growth_tracking)\n",
    "    return growth_tracking"
   ]
  },
  {
   "cell_type": "markdown",
   "id": "ff90f814-0b43-4afa-bb0f-c0dd49639c25",
   "metadata": {
    "tags": []
   },
   "source": [
    "## Sugarcane Test"
   ]
  },
  {
   "cell_type": "markdown",
   "id": "5382143b-bfc9-4f0c-8af8-704a52b436a7",
   "metadata": {},
   "source": [
    "With the simulation ready to go, let's test it. Sugarcane (represented by 5) must be next to water in order to grow. Since water can't have a crop planted on it, the water ends up equivalent to an empty block for our purposes, and can be represented with 0. Here is relatively good sugarcane layout, simulated."
   ]
  },
  {
   "cell_type": "code",
   "execution_count": 10,
   "id": "62da836c-616d-4b9f-9397-e9d301f4239d",
   "metadata": {},
   "outputs": [],
   "source": [
    "# a one-chunk sugarcane farm with water\n",
    "test_layout = np.array([\n",
    "    [0, 5, 5, 5, 0, 5, 5, 5, 0, 5, 5, 5, 0, 5, 5, 5],\n",
    "    [5, 5, 0, 5, 5, 5, 0, 5, 5, 5, 0, 5, 5, 5, 0, 5],\n",
    "    [0, 5, 5, 5, 0, 5, 5, 5, 0, 5, 5, 5, 0, 5, 5, 5],\n",
    "    [5, 5, 0, 5, 5, 5, 0, 5, 5, 5, 0, 5, 5, 5, 0, 5],\n",
    "    [0, 5, 5, 5, 0, 5, 5, 5, 0, 5, 5, 5, 0, 5, 5, 5],\n",
    "    [5, 5, 0, 5, 5, 5, 0, 5, 5, 5, 0, 5, 5, 5, 0, 5],\n",
    "    [0, 5, 5, 5, 0, 5, 5, 5, 0, 5, 5, 5, 0, 5, 5, 5],\n",
    "    [5, 5, 0, 5, 5, 5, 0, 5, 5, 5, 0, 5, 5, 5, 0, 5],\n",
    "    [0, 5, 5, 5, 0, 5, 5, 5, 0, 5, 5, 5, 0, 5, 5, 5],\n",
    "    [5, 5, 0, 5, 5, 5, 0, 5, 5, 5, 0, 5, 5, 5, 0, 5],\n",
    "    [0, 5, 5, 5, 0, 5, 5, 5, 0, 5, 5, 5, 0, 5, 5, 5],\n",
    "    [5, 5, 0, 5, 5, 5, 0, 5, 5, 5, 0, 5, 5, 5, 0, 5],\n",
    "    [0, 5, 5, 5, 0, 5, 5, 5, 0, 5, 5, 5, 0, 5, 5, 5],\n",
    "    [5, 5, 0, 5, 5, 5, 0, 5, 5, 5, 0, 5, 5, 5, 0, 5],\n",
    "    [0, 5, 5, 5, 0, 5, 5, 5, 0, 5, 5, 5, 0, 5, 5, 5],\n",
    "    [5, 5, 0, 5, 5, 5, 0, 5, 5, 5, 0, 5, 5, 5, 0, 5]\n",
    "    ])"
   ]
  },
  {
   "cell_type": "code",
   "execution_count": 11,
   "id": "32e5c524-cc38-45c4-ac28-e6907acfd96d",
   "metadata": {},
   "outputs": [],
   "source": [
    "growth = single_sim(test_layout)"
   ]
  },
  {
   "cell_type": "code",
   "execution_count": 21,
   "id": "0e3799c6-f548-40cc-95f2-d4fb9fc6be30",
   "metadata": {
    "tags": []
   },
   "outputs": [
    {
     "data": {
      "image/png": "[encoded data removed]",
      "text/plain": [
       "<Figure size 576x360 with 1 Axes>"
      ]
     },
     "metadata": {
      "needs_background": "light"
     },
     "output_type": "display_data"
    }
   ],
   "source": [
    "# using the information\n",
    "time = np.arange(1, growth.size + 1) # number of ticks, for x-axis\n",
    "\n",
    "\n",
    "# optional replanting time requirement essentially time between the end\n",
    "# of a growth cycle and the start of another (in ticks (1/20 second))\n",
    "replanting = 0 \n",
    "\n",
    "# efficiency in terms of \"plants successfully harvested\" so if a plant\n",
    "# has not reached the next full growth stage, it doesn't count, hence\n",
    "# the integer division. 20 * 60 * 60 is an hour to gameticks\n",
    "# conversion.\n",
    "efficiency = ((20*60*60) / (time + replanting)) * growth\n",
    "\n",
    "# visualization\n",
    "fig = plt.figure(figsize=(8, 5))\n",
    "plt.plot(time, efficiency)\n",
    "plt.xlabel('Elapsed Time (minutes)')\n",
    "plt.xticks(np.array(list(set(time // 12000))) * 12000,\n",
    "           labels=np.array(list(set(time // 12000)))*10)\n",
    "plt.ylabel('Crops Successfully Harvested per Hour')\n",
    "plt.title('Harvest Efficiency');"
   ]
  },
  {
   "cell_type": "markdown",
   "id": "77f7208e-3310-4bcd-bd4d-e69aecfd35c3",
   "metadata": {},
   "source": [
    "### Sugarcane conclusion\n",
    "As you can see from the single curve, its best to harvest sugarcane around the 35 minute mark, when most of the plants are at either two or three growth stages. Some time after this point, the efficiency starts to go down. This is because there are too many plants sitting at full growth while the last few fill in for it to be worth it to wait, a common problem."
   ]
  },
  {
   "cell_type": "markdown",
   "id": "d91bf0df-1f8f-4779-8994-a6a9381a392c",
   "metadata": {
    "tags": []
   },
   "source": [
    "## Crop Rows example\n",
    "Now let's use this tool to compare two layouts. Let's say I want to grow carrots. I could just plant a nice 9 by 9 square of them (with water in the middle), but since one of the rules determining this crop's growth probability is its adjacency to other carrots, I might actually have better luck planting alternating rows of potatoes and carrots. Let's make both layouts and put them on the same graph."
   ]
  },
  {
   "cell_type": "code",
   "execution_count": 13,
   "id": "9930e406-9da1-4753-a299-07fc351ab4a4",
   "metadata": {},
   "outputs": [],
   "source": [
    "# just carrots\n",
    "mono_layout = np.array([\n",
    "    [13,13,13,13,13,13,13,13,13],\n",
    "    [13,13,13,13,13,13,13,13,13],\n",
    "    [13,13,13,13,13,13,13,13,13],\n",
    "    [13,13,13,13,13,13,13,13,13],\n",
    "    [13,13,13,13, 0,13,13,13,13],\n",
    "    [13,13,13,13,13,13,13,13,13],\n",
    "    [13,13,13,13,13,13,13,13,13],\n",
    "    [13,13,13,13,13,13,13,13,13],\n",
    "    [13,13,13,13,13,13,13,13,13]\n",
    "])"
   ]
  },
  {
   "cell_type": "code",
   "execution_count": 14,
   "id": "a75a8679-e807-4970-bce2-59cce2f80f77",
   "metadata": {},
   "outputs": [],
   "source": [
    "mono_growth = single_sim(mono_layout)"
   ]
  },
  {
   "cell_type": "code",
   "execution_count": 15,
   "id": "31e4ca25-d1e7-4b73-a66d-db8041ce0217",
   "metadata": {},
   "outputs": [],
   "source": [
    "# carrots and potatoes\n",
    "alter_layout = np.array([\n",
    "    [13,13,13,13,13,13,13,13,13],\n",
    "    [14,14,14,14,14,14,14,14,14],\n",
    "    [13,13,13,13,13,13,13,13,13],\n",
    "    [14,14,14,14,14,14,14,14,14],\n",
    "    [13,13,13,13, 0,13,13,13,13],\n",
    "    [14,14,14,14,14,14,14,14,14],\n",
    "    [13,13,13,13,13,13,13,13,13],\n",
    "    [14,14,14,14,14,14,14,14,14],\n",
    "    [13,13,13,13,13,13,13,13,13]\n",
    "])"
   ]
  },
  {
   "cell_type": "code",
   "execution_count": 16,
   "id": "572c8652-188f-40b6-a352-dc4dfeccc5be",
   "metadata": {},
   "outputs": [],
   "source": [
    "alter_growth = single_sim(alter_layout)"
   ]
  },
  {
   "cell_type": "code",
   "execution_count": 22,
   "id": "4d285119-44d8-4fde-a447-5d6e96957e93",
   "metadata": {},
   "outputs": [
    {
     "data": {
      "image/png": "[encoded data removed]",
      "text/plain": [
       "<Figure size 576x360 with 1 Axes>"
      ]
     },
     "metadata": {
      "needs_background": "light"
     },
     "output_type": "display_data"
    }
   ],
   "source": [
    "replanting = 1200 # for carrots let's say it takes a minute to replant\n",
    "\n",
    "mono_time = np.arange(1, mono_growth.size + 1)\n",
    "mono_efficiency = (20*60*60 / (mono_time + replanting)) * mono_growth\n",
    "\n",
    "alter_time = np.arange(1, alter_growth.size + 1)\n",
    "alter_efficiency = (20*60*60 / (alter_time + replanting)) * alter_growth\n",
    "\n",
    "fig = plt.figure(figsize=(8, 5))\n",
    "plt.plot(mono_time, mono_efficiency, c='red', label='Carrot Monoculture')\n",
    "plt.plot(alter_time, alter_efficiency, c='blue',\n",
    "         label='Alternating Rows\\n(potatoes and carrots)')\n",
    "plt.xlabel('Elapsed Time (minutes)')\n",
    "plt.xticks(np.array(list(set(mono_time // 12000))) * 12000,\n",
    "           labels=np.array(list(set(mono_time // 12000)))*10)\n",
    "plt.ylabel('Crops Successfully Harvested per Hour')\n",
    "plt.title('Harvest Efficiency')\n",
    "plt.legend();"
   ]
  },
  {
   "cell_type": "markdown",
   "id": "2d054255-9138-4a41-9cab-5840d7129348",
   "metadata": {
    "tags": []
   },
   "source": [
    "### Crop Rows Conclusion\n",
    "As you can see, the harvest efficiency of the alternating rows is much greater. When you account for the fact that half of that \"crops successfully harvested per hour\" number is potatoes, you're still getting the same number of carrots per hour as with the carrot monoculture farm. You're just also getting the same quantity of potatoes! Seems like a much better deal."
   ]
  },
  {
   "cell_type": "markdown",
   "id": "24730eb7-804f-48fa-bd5f-3a321fa69a9a",
   "metadata": {},
   "source": [
    "## Overall Conclusion\n",
    "This was a fun challenge I gave myself when I was first studying numpy arrays in-depth back in November/December 2021 (though I've cleaned it up a little since then). Hopefully it serves to illustrate not only my proficiency in that area, but my overall analytical approach and how I can use data science to achieve business objectives. Thank you for your time in taking a look at this."
   ]
  }
 ],
 "metadata": {
  "kernelspec": {
   "display_name": "Python 3 (ipykernel)",
   "language": "python",
   "name": "python3"
  },
  "language_info": {
   "codemirror_mode": {
    "name": "ipython",
    "version": 3
   },
   "file_extension": ".py",
   "mimetype": "text/x-python",
   "name": "python",
   "nbconvert_exporter": "python",
   "pygments_lexer": "ipython3",
   "version": "3.8.10"
  }
 },
 "nbformat": 4,
 "nbformat_minor": 5
}
