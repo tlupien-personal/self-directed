{
 "cells": [
  {
   "cell_type": "markdown",
   "id": "6cf2f76d-1cf8-457f-a3d0-7065e0db2d31",
   "metadata": {},
   "source": [
    "# Kaggle House Prices\n",
    "## By: Tim Lupien"
   ]
  },
  {
   "cell_type": "markdown",
   "id": "b2dbede2-bf0b-402f-b536-a2a830489440",
   "metadata": {},
   "source": [
    "Here is how the challenge is described on Kaggle:\n",
    "\n",
    ">Ask a home buyer to describe their dream house, and they probably won't begin with the height of the basement ceiling or the proximity to an east-west railroad. But this playground competition's dataset proves that much more influences price negotiations than the number of bedrooms or a white-picket fence.\n",
    ">\n",
    ">With 79 explanatory variables describing (almost) every aspect of residential homes in Ames, Iowa, this competition challenges you to predict the final price of each home."
   ]
  },
  {
   "cell_type": "markdown",
   "id": "fa0a4534-1649-4333-a3fd-1b39f64622f5",
   "metadata": {},
   "source": [
    "At the time of this writing, the output of this notebook achieved a RMLSE of **0.12940**, earning me 987 / 4,303 (top 23% of all entrants) on the leaderboard."
   ]
  },
  {
   "cell_type": "markdown",
   "id": "c4585b22-80f1-440a-a9f2-53e94c6a2915",
   "metadata": {},
   "source": [
    "## Basic Info"
   ]
  },
  {
   "cell_type": "code",
   "execution_count": 1,
   "id": "35519c96-7dcd-4f3d-8dbd-a38fcdebfdc0",
   "metadata": {},
   "outputs": [],
   "source": [
    "import numpy as np\n",
    "import pandas as pd\n",
    "import matplotlib.pyplot as plt\n",
    "import matplotlib as mpl\n",
    "mpl.rcParams['axes.prop_cycle'] = mpl.cycler(color=['#CC0000',\n",
    "                                                    '#18548b',\n",
    "                                                    '#faaf21',\n",
    "                                                    '#213b1e']) \n",
    "from sklearn.linear_model import LinearRegression\n",
    "from sklearn.model_selection import cross_val_score\n",
    "import xgboost as xgb"
   ]
  },
  {
   "cell_type": "code",
   "execution_count": 2,
   "id": "f3fd8168-2b1e-425a-bca7-72d6ed019aef",
   "metadata": {},
   "outputs": [
    {
     "data": {
      "text/plain": [
       "(2919, 80)"
      ]
     },
     "execution_count": 2,
     "metadata": {},
     "output_type": "execute_result"
    }
   ],
   "source": [
    "train_df = pd.read_csv('./train.csv', index_col='Id')\n",
    "test_df = pd.read_csv('./test.csv', index_col='Id')\n",
    "all_df = pd.concat([train_df,test_df])\n",
    "all_df.shape"
   ]
  },
  {
   "cell_type": "markdown",
   "id": "95f6ab31-5b16-4b0e-9a1b-c4f89b967942",
   "metadata": {},
   "source": [
    "While 79 variables is certainly a lot, and it was unpleasant to do so, the first thing I did was manually review the data dictionary to split the variables into different data types based on how I wanted to treat them. These lists are the result of that effort"
   ]
  },
  {
   "cell_type": "code",
   "execution_count": 3,
   "id": "27c25bf2-1788-4efd-af19-29ade9d06cc6",
   "metadata": {},
   "outputs": [],
   "source": [
    "Categorical = [\n",
    "    'MSSubClass',\n",
    "    'MSZoning',\n",
    "    'Street', # arguably binary\n",
    "    'Alley',\n",
    "    'LotShape',\n",
    "    'LandContour',\n",
    "    'Utilities',\n",
    "    'LotConfig',\n",
    "    'LandSlope',\n",
    "    'Neighborhood',\n",
    "    'Condition1',\n",
    "    'Condition2', # creative names eh\n",
    "    'BldgType',\n",
    "    'HouseStyle',\n",
    "    'RoofStyle',\n",
    "    'RoofMatl',\n",
    "    'Exterior1st',\n",
    "    'Exterior2nd',\n",
    "    'MasVnrType',\n",
    "    'ExterQual',\n",
    "    'ExterCond',\n",
    "    'Foundation',\n",
    "    'BsmtQual',\n",
    "    'BsmtCond',\n",
    "    'BsmtExposure',\n",
    "    'BsmtFinType1',\n",
    "    'BsmtFinType2',\n",
    "    'Heating',\n",
    "    'HeatingQC',\n",
    "    'CentralAir', # binary\n",
    "    'Electrical',\n",
    "    'KitchenQual',\n",
    "    'Functional',\n",
    "    'FireplaceQu',\n",
    "    'GarageType',\n",
    "    'GarageFinish',\n",
    "    'GarageQual',\n",
    "    'GarageCond',\n",
    "    'PavedDrive',\n",
    "    'PoolQC',\n",
    "    'Fence',\n",
    "    'MiscFeature', # sus\n",
    "    'SaleType',\n",
    "    'SaleCondition',\n",
    "]   \n",
    "\n",
    "Ordinal = ['OverallQual', 'OverallCond']\n",
    "\n",
    "Continuous = [\n",
    "    'LotFrontage',\n",
    "    'LotArea',\n",
    "    'MasVnrArea',\n",
    "    'BsmtFinSF1',\n",
    "    'BsmtFinSF2',\n",
    "    'BsmtUnfSF',\n",
    "    'TotalBsmtSF',\n",
    "    '1stFlrSF',\n",
    "    '2ndFlrSF',\n",
    "    'LowQualFinSF',\n",
    "    'GrLivArea',\n",
    "    'GarageArea',\n",
    "    'WoodDeckSF',\n",
    "    'OpenPorchSF',\n",
    "    'EnclosedPorch',\n",
    "    '3SsnPorch',\n",
    "    'ScreenPorch',\n",
    "    'PoolArea',\n",
    "    'MiscVal'\n",
    "]\n",
    "\n",
    "Discrete = [\n",
    "    'BsmtFullBath',\n",
    "    'BsmtHalfBath',\n",
    "    'FullBath',\n",
    "    'HalfBath',\n",
    "    'BedroomAbvGr',\n",
    "    'KitchenAbvGr',\n",
    "    'TotRmsAbvGrd',\n",
    "    'Fireplaces',\n",
    "    'GarageCars',\n",
    "]\n",
    "\n",
    "Dates = [\n",
    "    'YearBuilt',\n",
    "    'YearRemodAdd',\n",
    "    'GarageYrBlt',\n",
    "    'MoSold',\n",
    "    'YrSold' # probably combine these?\n",
    "]"
   ]
  },
  {
   "cell_type": "markdown",
   "id": "e0cda7c7-e059-45ec-bb3e-b2eb3b7e0fa2",
   "metadata": {
    "tags": []
   },
   "source": [
    "## Removing NAs"
   ]
  },
  {
   "cell_type": "markdown",
   "id": "b98fd273-494c-441a-afa0-e7f870935e0e",
   "metadata": {},
   "source": [
    "There are many NAs in this dataset."
   ]
  },
  {
   "cell_type": "code",
   "execution_count": 4,
   "id": "620eb96f-4069-417d-9a66-76bd62351e5a",
   "metadata": {},
   "outputs": [
    {
     "data": {
      "text/plain": [
       "PoolQC          2909\n",
       "MiscFeature     2814\n",
       "Alley           2721\n",
       "Fence           2348\n",
       "SalePrice       1459\n",
       "FireplaceQu     1420\n",
       "LotFrontage      486\n",
       "GarageCond       159\n",
       "GarageFinish     159\n",
       "GarageQual       159\n",
       "GarageYrBlt      159\n",
       "GarageType       157\n",
       "BsmtCond          82\n",
       "BsmtExposure      82\n",
       "BsmtQual          81\n",
       "BsmtFinType2      80\n",
       "BsmtFinType1      79\n",
       "MasVnrType        24\n",
       "MasVnrArea        23\n",
       "MSZoning           4\n",
       "BsmtHalfBath       2\n",
       "Utilities          2\n",
       "BsmtFullBath       2\n",
       "Functional         2\n",
       "Exterior2nd        1\n",
       "Exterior1st        1\n",
       "GarageArea         1\n",
       "GarageCars         1\n",
       "SaleType           1\n",
       "KitchenQual        1\n",
       "BsmtFinSF1         1\n",
       "Electrical         1\n",
       "BsmtFinSF2         1\n",
       "BsmtUnfSF          1\n",
       "TotalBsmtSF        1\n",
       "dtype: int64"
      ]
     },
     "execution_count": 4,
     "metadata": {},
     "output_type": "execute_result"
    }
   ],
   "source": [
    "na_counts = all_df.isna().sum(axis=0).sort_values(ascending=False)\n",
    "na_counts[na_counts > 0]"
   ]
  },
  {
   "cell_type": "markdown",
   "id": "f4c24224-3538-44b8-8032-f535220d6c91",
   "metadata": {},
   "source": [
    "Fortunately, since I took the time to actually read the data dictionary I know that for all categorical variables with systematically missing values (read: many missing values), NA simply means that the feature a given category is describing is not present in the home.\n",
    "\n",
    "Thus I can define the set of categorical variables with high numbers of missing values, and replace NA with some other value (I use 'No') so that the lack of a certain feature will be something the models I'll use later can interpret."
   ]
  },
  {
   "cell_type": "code",
   "execution_count": 5,
   "id": "84bb4c0f-cf23-4ca0-af3c-028858d38ee7",
   "metadata": {},
   "outputs": [],
   "source": [
    "cat_high_na = [col for col in Categorical if col in (na_counts[na_counts >= 20].index.values)]\n",
    "for col in cat_high_na:\n",
    "    all_df.loc[(all_df[col].isna()==True),col] = 'No'"
   ]
  },
  {
   "cell_type": "markdown",
   "id": "53c11724-67e1-439b-87e0-0ac5aa3d02df",
   "metadata": {},
   "source": [
    "With that taken care of, I'm left to examine the remaining missing values:"
   ]
  },
  {
   "cell_type": "code",
   "execution_count": 6,
   "id": "9df89403-da28-4a9b-82e5-da0ac4e636fd",
   "metadata": {},
   "outputs": [
    {
     "data": {
      "text/plain": [
       "SalePrice       1459\n",
       "LotFrontage      486\n",
       "GarageYrBlt      159\n",
       "MasVnrArea        23\n",
       "MSZoning           4\n",
       "Utilities          2\n",
       "Functional         2\n",
       "BsmtFullBath       2\n",
       "BsmtHalfBath       2\n",
       "Exterior1st        1\n",
       "BsmtFinSF2         1\n",
       "SaleType           1\n",
       "GarageCars         1\n",
       "Exterior2nd        1\n",
       "BsmtFinSF1         1\n",
       "GarageArea         1\n",
       "KitchenQual        1\n",
       "BsmtUnfSF          1\n",
       "TotalBsmtSF        1\n",
       "Electrical         1\n",
       "dtype: int64"
      ]
     },
     "execution_count": 6,
     "metadata": {},
     "output_type": "execute_result"
    }
   ],
   "source": [
    "na_counts = all_df.isna().sum(axis=0).sort_values(ascending=False)\n",
    "na_counts[na_counts > 0]"
   ]
  },
  {
   "cell_type": "markdown",
   "id": "87b0e6d6-9bf3-41ce-9e90-5e32eb3c2588",
   "metadata": {},
   "source": [
    "SalePrice is suppposed to have that many NAs (that's the test/unlabeled data). Let's investigate LotFrontage first by taking a look at some of the other features that may be related to it"
   ]
  },
  {
   "cell_type": "markdown",
   "id": "cfbf54fa-4a7f-4894-897c-47162002bb09",
   "metadata": {},
   "source": [
    "Other features, such as `LotArea`"
   ]
  },
  {
   "cell_type": "code",
   "execution_count": 7,
   "id": "89b9c78c-e431-4b12-8f4f-927b34724000",
   "metadata": {},
   "outputs": [
    {
     "data": {
      "image/png": "[encoded data removed]",
      "text/plain": [
       "<Figure size 720x432 with 1 Axes>"
      ]
     },
     "metadata": {
      "needs_background": "light"
     },
     "output_type": "display_data"
    }
   ],
   "source": [
    "fig = plt.figure(figsize=(10,6))\n",
    "hist1, bins, _  = plt.hist(all_df[all_df.LotFrontage.isna() == True]['LotArea'],\n",
    "         bins = 20,\n",
    "         edgecolor= 'k',\n",
    "         density=True,\n",
    "         alpha=0.5,\n",
    "         label='LotFrontage NA')\n",
    "\n",
    "plt.hist(all_df[all_df.LotFrontage.isna() == False]['LotArea'],\n",
    "         bins = bins,\n",
    "         edgecolor='k',\n",
    "         density=True,\n",
    "         alpha=0.5,\n",
    "         label='Has LotFrontage')\n",
    "         \n",
    "plt.legend();"
   ]
  },
  {
   "cell_type": "markdown",
   "id": "3caa2879-2c60-45a4-8bb3-05c04a258089",
   "metadata": {},
   "source": [
    "Looks like Lot Area is fairly similar between these.\n",
    "\n",
    "LotConfig might be the deciding factor..."
   ]
  },
  {
   "cell_type": "code",
   "execution_count": 8,
   "id": "fcde9219-591a-475c-8b4a-89d450d74b88",
   "metadata": {},
   "outputs": [],
   "source": [
    "LotConfig_dist_dif = all_df[all_df.LotFrontage.isna()==True]['LotConfig'].value_counts(normalize=True)\\\n",
    "- all_df[all_df.LotFrontage.isna()==False]['LotConfig'].value_counts(normalize=True)"
   ]
  },
  {
   "cell_type": "code",
   "execution_count": 9,
   "id": "d05059b2-32be-473f-8f54-490a6db58437",
   "metadata": {},
   "outputs": [
    {
     "data": {
      "image/png": "[encoded data removed]",
      "text/plain": [
       "<Figure size 720x432 with 1 Axes>"
      ]
     },
     "metadata": {
      "needs_background": "light"
     },
     "output_type": "display_data"
    }
   ],
   "source": [
    "fig = plt.figure(figsize=(10,6))\n",
    "plt.bar(LotConfig_dist_dif.index,LotConfig_dist_dif)\n",
    "plt.axhline(0, c='k')\n",
    "plt.title('Difference in Distribution of LotConfigs \\n\\\n",
    "in observations with LotFrontage vs without.')\n",
    "plt.ylabel('Difference (%)');"
   ]
  },
  {
   "cell_type": "markdown",
   "id": "a8125960-4ccb-4723-95c9-8353b82977af",
   "metadata": {},
   "source": [
    "No, it is not. In fact, it's pretty opposite from what I expected, in that Inside is *under*represented in the part of the data where `LotFrontage` is NA. It still might be useful to investigate further, however."
   ]
  },
  {
   "cell_type": "code",
   "execution_count": 10,
   "id": "06bbd4f6-1ade-41b7-bf93-60465b22426f",
   "metadata": {},
   "outputs": [
    {
     "data": {
      "image/png": "[encoded data removed]",
      "text/plain": [
       "<Figure size 720x432 with 1 Axes>"
      ]
     },
     "metadata": {
      "needs_background": "light"
     },
     "output_type": "display_data"
    }
   ],
   "source": [
    "LotShape_dist_dif = all_df[all_df.LotFrontage.isna()==True]['LotShape'].value_counts(normalize=True)\\\n",
    "- all_df[all_df.LotFrontage.isna()==False]['LotShape'].value_counts(normalize=True)\n",
    "fig = plt.figure(figsize=(10,6))\n",
    "plt.bar(LotShape_dist_dif.index,LotShape_dist_dif)\n",
    "plt.axhline(0, c='k')\n",
    "plt.title('Difference in Distribution of LotShapes \\n\\\n",
    "in observations with LotFrontage vs without.')\n",
    "plt.ylabel('Difference (%)');"
   ]
  },
  {
   "cell_type": "markdown",
   "id": "6b9822a2-b59e-459f-806e-4e9cf4d4e6c6",
   "metadata": {},
   "source": [
    "Lot Shape differences are minimal."
   ]
  },
  {
   "cell_type": "markdown",
   "id": "437ae655-1070-4b25-a036-d21c2eb804ac",
   "metadata": {},
   "source": [
    "Without any clear explanation for the cause of the null values from these columns, now I'll investigate their usefulness for imputing the NAs:"
   ]
  },
  {
   "cell_type": "code",
   "execution_count": 11,
   "id": "1e422402-e0a5-4673-8c00-5291e67b1fa3",
   "metadata": {},
   "outputs": [
    {
     "name": "stdout",
     "output_type": "stream",
     "text": [
      "Inside 67.20569280343716\n",
      "FR2 61.276923076923076\n",
      "Corner 82.69041769041769\n",
      "CulDSac 56.7752808988764\n",
      "FR3 79.3\n"
     ]
    }
   ],
   "source": [
    "for config in all_df.LotConfig.unique():\n",
    "    print(config, all_df[all_df.LotConfig == config]['LotFrontage'].mean())"
   ]
  },
  {
   "cell_type": "code",
   "execution_count": 12,
   "id": "3f23b908-0a13-4a3a-bdb7-b1782c8ea743",
   "metadata": {},
   "outputs": [
    {
     "name": "stdout",
     "output_type": "stream",
     "text": [
      "Reg 66.84887087434858\n",
      "IR1 75.18083462132921\n",
      "IR2 67.4375\n",
      "IR3 117.63636363636364\n"
     ]
    }
   ],
   "source": [
    "for shape in all_df.LotShape.unique():\n",
    "    print(shape, all_df[all_df.LotShape == shape]['LotFrontage'].mean())"
   ]
  },
  {
   "cell_type": "code",
   "execution_count": 13,
   "id": "314731cd-40a6-42fa-8baf-525ace5c2ab3",
   "metadata": {},
   "outputs": [
    {
     "name": "stdout",
     "output_type": "stream",
     "text": [
      "Inside Reg 65.1647564469914\n",
      "Inside IR1 72.60136674259681\n",
      "Inside IR2 86.31818181818181\n",
      "Inside IR3 79.2\n",
      "FR2 Reg 60.67391304347826\n",
      "FR2 IR1 72.61538461538461\n",
      "FR2 IR2 41.333333333333336\n",
      "FR2 IR3 nan\n",
      "Corner Reg 76.45487364620939\n",
      "Corner IR1 93.66129032258064\n",
      "Corner IR2 96.0\n",
      "Corner IR3 167.75\n",
      "CulDSac Reg 33.0\n",
      "CulDSac IR1 57.64179104477612\n",
      "CulDSac IR2 49.888888888888886\n",
      "CulDSac IR3 113.5\n",
      "FR3 Reg 73.83333333333333\n",
      "FR3 IR1 87.5\n",
      "FR3 IR2 nan\n",
      "FR3 IR3 nan\n"
     ]
    }
   ],
   "source": [
    "for config in all_df.LotConfig.unique():\n",
    "    for shape in all_df.LotShape.unique():\n",
    "        print(config, shape, all_df.loc[(all_df.LotConfig == config) & (all_df.LotShape == shape), 'LotFrontage'].mean())"
   ]
  },
  {
   "cell_type": "markdown",
   "id": "6249d1a2-f83f-44c7-9be0-649e287ba415",
   "metadata": {},
   "source": [
    "Alright I'll use the combination of lot config and shape to impute the LotFrontage."
   ]
  },
  {
   "cell_type": "code",
   "execution_count": 14,
   "id": "5e30b5c6-8c01-435c-a6fe-fbf4f27b8c68",
   "metadata": {},
   "outputs": [],
   "source": [
    "for config, shape, idx in zip(all_df.loc[(all_df.LotFrontage.isna() == True),'LotConfig'].values,\n",
    "                    all_df.loc[(all_df.LotFrontage.isna() == True),'LotShape'].values,\n",
    "                    all_df.loc[(all_df.LotFrontage.isna() == True)].index.values):\n",
    "    try:\n",
    "        all_df.loc[idx, 'LotFrontage'] = all_df.loc[(all_df.LotConfig==config)\\\n",
    "                                    & (all_df.LotShape == shape)\\\n",
    "                                    & (all_df.LotFrontage.isna() == False),\n",
    "                                    'LotFrontage'].mean()\n",
    "    except ValueError:\n",
    "        print(f'There was a ValueError because there were no {config} in LotShape {shape}...')\n",
    "        continue"
   ]
  },
  {
   "cell_type": "code",
   "execution_count": 15,
   "id": "b1d69393-bf3e-410c-8ef6-39ef0427a5e9",
   "metadata": {},
   "outputs": [
    {
     "data": {
      "text/plain": [
       "SalePrice       1459\n",
       "GarageYrBlt      159\n",
       "MasVnrArea        23\n",
       "MSZoning           4\n",
       "Utilities          2\n",
       "BsmtHalfBath       2\n",
       "Functional         2\n",
       "BsmtFullBath       2\n",
       "Exterior1st        1\n",
       "TotalBsmtSF        1\n",
       "KitchenQual        1\n",
       "Exterior2nd        1\n",
       "BsmtFinSF1         1\n",
       "GarageCars         1\n",
       "GarageArea         1\n",
       "BsmtUnfSF          1\n",
       "BsmtFinSF2         1\n",
       "SaleType           1\n",
       "Electrical         1\n",
       "dtype: int64"
      ]
     },
     "execution_count": 15,
     "metadata": {},
     "output_type": "execute_result"
    }
   ],
   "source": [
    "na_counts = all_df.isna().sum(axis=0).sort_values(ascending=False)\n",
    "na_counts[na_counts > 0]"
   ]
  },
  {
   "cell_type": "markdown",
   "id": "565c031f-4ad9-4c7f-85f4-972aa5eeae2e",
   "metadata": {},
   "source": [
    "And now for GarageYrBlt. Given that there were 159 NAs in the rest of the garage-related columns, I bet these NAs represent Garages that were never built because they don't exist."
   ]
  },
  {
   "cell_type": "code",
   "execution_count": 16,
   "id": "b48eebeb-12c6-4aad-b6d4-6547f0079452",
   "metadata": {},
   "outputs": [
    {
     "data": {
      "text/plain": [
       "No    159\n",
       "Name: GarageQual, dtype: int64"
      ]
     },
     "execution_count": 16,
     "metadata": {},
     "output_type": "execute_result"
    }
   ],
   "source": [
    "all_df[all_df.GarageYrBlt.isna()==True]['GarageQual'].value_counts()"
   ]
  },
  {
   "cell_type": "markdown",
   "id": "886ae91c-9c32-444a-ac6c-69a859f5e521",
   "metadata": {},
   "source": [
    "Yes, exactly. Since I know I'm going to make all of the Time variables into \"ages\" so the models can parse them, I'll set these NAs to be the year of sale such that the corresponding age will be 0 and thus these observations will not be unduely affected by any coefficients in the model."
   ]
  },
  {
   "cell_type": "code",
   "execution_count": 17,
   "id": "5aa43e4a-19c8-49ee-af24-44f30973cfed",
   "metadata": {},
   "outputs": [],
   "source": [
    "all_df.loc[(all_df.GarageYrBlt.isna()==True), 'GarageYrBlt'] = all_df.loc[(all_df.GarageYrBlt.isna()==True), 'YrSold']"
   ]
  },
  {
   "cell_type": "markdown",
   "id": "196cbf13-b00f-4a07-9c4d-1432936877c0",
   "metadata": {},
   "source": [
    "I can confidently say the same for `MasVnrArea` as well (that the NAs are for houses without a Masonry Veneer) and so I'll set that to 0."
   ]
  },
  {
   "cell_type": "code",
   "execution_count": 18,
   "id": "cc60e69d-969c-4ba2-aeff-e0fb47626c09",
   "metadata": {},
   "outputs": [],
   "source": [
    "all_df.loc[(all_df.MasVnrArea.isna()==True), 'MasVnrArea'] = 0"
   ]
  },
  {
   "cell_type": "markdown",
   "id": "82e2fec2-1176-42c2-9f3e-9ca8d661011a",
   "metadata": {},
   "source": [
    "For the rest of these, I again divide them by variable type."
   ]
  },
  {
   "cell_type": "code",
   "execution_count": 19,
   "id": "fc65cb76-c496-4e28-a183-98848e96a10d",
   "metadata": {},
   "outputs": [
    {
     "data": {
      "text/plain": [
       "SalePrice       1459\n",
       "MSZoning           4\n",
       "Utilities          2\n",
       "BsmtHalfBath       2\n",
       "Functional         2\n",
       "BsmtFullBath       2\n",
       "Exterior1st        1\n",
       "KitchenQual        1\n",
       "Electrical         1\n",
       "SaleType           1\n",
       "Exterior2nd        1\n",
       "TotalBsmtSF        1\n",
       "BsmtUnfSF          1\n",
       "BsmtFinSF2         1\n",
       "GarageCars         1\n",
       "BsmtFinSF1         1\n",
       "GarageArea         1\n",
       "dtype: int64"
      ]
     },
     "execution_count": 19,
     "metadata": {},
     "output_type": "execute_result"
    }
   ],
   "source": [
    "na_counts = all_df.isna().sum(axis=0).sort_values(ascending=False)\n",
    "na_counts[na_counts > 0]"
   ]
  },
  {
   "cell_type": "code",
   "execution_count": 20,
   "id": "19d89586-d176-4d35-91a3-a6470a3967f6",
   "metadata": {},
   "outputs": [],
   "source": [
    "cat_na = [col for col in Categorical if col in (na_counts[(na_counts > 0)].index.values)]\n",
    "con_na = [col for col in Continuous if col in (na_counts[(na_counts > 0)].index.values)]\n",
    "dis_na = [col for col in Discrete if col in (na_counts[(na_counts > 0)].index.values)]"
   ]
  },
  {
   "cell_type": "code",
   "execution_count": 21,
   "id": "ecb45b8a-0526-418b-999b-57604cbd4ddb",
   "metadata": {},
   "outputs": [
    {
     "data": {
      "text/plain": [
       "['MSZoning',\n",
       " 'Utilities',\n",
       " 'Exterior1st',\n",
       " 'Exterior2nd',\n",
       " 'Electrical',\n",
       " 'KitchenQual',\n",
       " 'Functional',\n",
       " 'SaleType']"
      ]
     },
     "execution_count": 21,
     "metadata": {},
     "output_type": "execute_result"
    }
   ],
   "source": [
    "cat_na"
   ]
  },
  {
   "cell_type": "markdown",
   "id": "f217d36b-f3b3-40af-8637-5a3735bb2296",
   "metadata": {},
   "source": [
    "These (categorical) can just get the mode. Although I do want to check if `KitchenQual` implies 0 kitchens first."
   ]
  },
  {
   "cell_type": "code",
   "execution_count": 22,
   "id": "33cae7d6-c0f3-4b48-953d-ccc653f59f56",
   "metadata": {},
   "outputs": [
    {
     "data": {
      "text/plain": [
       "Id\n",
       "1556    1\n",
       "Name: KitchenAbvGr, dtype: int64"
      ]
     },
     "execution_count": 22,
     "metadata": {},
     "output_type": "execute_result"
    }
   ],
   "source": [
    "all_df[all_df.KitchenQual.isna() == True]['KitchenAbvGr']"
   ]
  },
  {
   "cell_type": "markdown",
   "id": "2473c4e6-5e68-4d04-afc4-2ff0b76ac677",
   "metadata": {},
   "source": [
    "Yes there is, indeed, a kitchen."
   ]
  },
  {
   "cell_type": "code",
   "execution_count": 23,
   "id": "88e5dbea-7445-4979-8342-fae43603cf55",
   "metadata": {},
   "outputs": [],
   "source": [
    "for col in cat_na:\n",
    "    all_df.loc[all_df[col].isna()==True,col] = all_df[col].mode()[0]"
   ]
  },
  {
   "cell_type": "code",
   "execution_count": 24,
   "id": "1248bc4c-2a27-4e59-ae01-75f72803ac95",
   "metadata": {},
   "outputs": [
    {
     "data": {
      "text/plain": [
       "['BsmtFinSF1', 'BsmtFinSF2', 'BsmtUnfSF', 'TotalBsmtSF', 'GarageArea']"
      ]
     },
     "execution_count": 24,
     "metadata": {},
     "output_type": "execute_result"
    }
   ],
   "source": [
    "con_na"
   ]
  },
  {
   "cell_type": "markdown",
   "id": "35a828f0-c7d9-482e-af5e-89de4dd46bb8",
   "metadata": {},
   "source": [
    "Similar question, do these have Basments and Garages? Let's see:"
   ]
  },
  {
   "cell_type": "code",
   "execution_count": 25,
   "id": "f9bd81ba-e946-4d67-a5bd-247e192e962f",
   "metadata": {},
   "outputs": [
    {
     "name": "stdout",
     "output_type": "stream",
     "text": [
      "     BsmtQual GarageQual\n",
      "Id                      \n",
      "2121       No         TA\n",
      "     BsmtQual GarageQual\n",
      "Id                      \n",
      "2121       No         TA\n",
      "     BsmtQual GarageQual\n",
      "Id                      \n",
      "2121       No         TA\n",
      "     BsmtQual GarageQual\n",
      "Id                      \n",
      "2121       No         TA\n",
      "     BsmtQual GarageQual\n",
      "Id                      \n",
      "2577       Gd         No\n"
     ]
    }
   ],
   "source": [
    "for col in con_na:\n",
    "    print(all_df.loc[all_df[col].isna()==True,['BsmtQual','GarageQual']])"
   ]
  },
  {
   "cell_type": "markdown",
   "id": "441ef567-b2e0-4165-b51c-85406224b174",
   "metadata": {},
   "source": [
    "It appears these can all be set to 0."
   ]
  },
  {
   "cell_type": "code",
   "execution_count": 26,
   "id": "95a07b4a-7d4a-4fc3-8737-334052423015",
   "metadata": {},
   "outputs": [],
   "source": [
    "for col in con_na:\n",
    "    all_df.loc[all_df[col].isna()==True,col] = 0"
   ]
  },
  {
   "cell_type": "markdown",
   "id": "106aa315-07ff-4e2e-b9bb-0b636a73131a",
   "metadata": {},
   "source": [
    "Now I'll follow the exact same process with discrete:"
   ]
  },
  {
   "cell_type": "code",
   "execution_count": 27,
   "id": "3255a5b2-8d94-4b75-a944-32d47edf04fd",
   "metadata": {},
   "outputs": [
    {
     "data": {
      "text/plain": [
       "['BsmtFullBath', 'BsmtHalfBath', 'GarageCars']"
      ]
     },
     "execution_count": 27,
     "metadata": {},
     "output_type": "execute_result"
    }
   ],
   "source": [
    "dis_na"
   ]
  },
  {
   "cell_type": "code",
   "execution_count": 28,
   "id": "29eb8795-6252-4d88-958d-21d3b1029779",
   "metadata": {},
   "outputs": [
    {
     "name": "stdout",
     "output_type": "stream",
     "text": [
      "BsmtFullBath      BsmtQual GarageQual\n",
      "Id                      \n",
      "2121       No         TA\n",
      "2189       No         TA\n",
      "BsmtHalfBath      BsmtQual GarageQual\n",
      "Id                      \n",
      "2121       No         TA\n",
      "2189       No         TA\n",
      "GarageCars      BsmtQual GarageQual\n",
      "Id                      \n",
      "2577       Gd         No\n"
     ]
    }
   ],
   "source": [
    "for col in dis_na:\n",
    "    print(col, all_df.loc[all_df[col].isna()==True,['BsmtQual','GarageQual']])"
   ]
  },
  {
   "cell_type": "code",
   "execution_count": 29,
   "id": "5b5a4197-9de3-40cf-9741-6ced5a5e65eb",
   "metadata": {},
   "outputs": [],
   "source": [
    "for col in dis_na:\n",
    "    all_df.loc[all_df[col].isna()==True,col] = 0"
   ]
  },
  {
   "cell_type": "code",
   "execution_count": 30,
   "id": "f094ba6a-e8d8-4d1a-a866-db41be3636e0",
   "metadata": {},
   "outputs": [
    {
     "data": {
      "text/plain": [
       "SalePrice    1459\n",
       "dtype: int64"
      ]
     },
     "execution_count": 30,
     "metadata": {},
     "output_type": "execute_result"
    }
   ],
   "source": [
    "na_counts = all_df.isna().sum(axis=0).sort_values(ascending=False)\n",
    "na_counts[na_counts > 0]"
   ]
  },
  {
   "cell_type": "markdown",
   "id": "ee66de53-531b-4aed-bffb-159893985379",
   "metadata": {},
   "source": [
    "Hooray! No more NAs!"
   ]
  },
  {
   "cell_type": "markdown",
   "id": "7be1da57-6138-40f6-9a0a-ef15a2071d38",
   "metadata": {},
   "source": [
    "## Outliers"
   ]
  },
  {
   "cell_type": "markdown",
   "id": "aa13124f-584e-429e-8017-a4afb3f91599",
   "metadata": {},
   "source": [
    "With a problem domain as diverse as houses, there are bound to be outliers. I find boxplots a useful way of examining the presence of outliers, let's make one for each of the 19 continuous variables."
   ]
  },
  {
   "cell_type": "code",
   "execution_count": 31,
   "id": "0a9eb4d2-7e14-40af-ab0f-3c7cb4a82e44",
   "metadata": {},
   "outputs": [
    {
     "data": {
      "text/plain": [
       "19"
      ]
     },
     "execution_count": 31,
     "metadata": {},
     "output_type": "execute_result"
    }
   ],
   "source": [
    "len(Continuous)"
   ]
  },
  {
   "cell_type": "code",
   "execution_count": 32,
   "id": "8c609144-3048-4eb8-a206-39981711c538",
   "metadata": {},
   "outputs": [
    {
     "data": {
      "image/png": "[encoded data removed]",
      "text/plain": [
       "<Figure size 864x1080 with 20 Axes>"
      ]
     },
     "metadata": {
      "needs_background": "light"
     },
     "output_type": "display_data"
    }
   ],
   "source": [
    "fig, ax = plt.subplots(4,5, figsize = (12,15))\n",
    "fig.subplots_adjust(hspace=0.5, wspace=0.5)\n",
    "c = 0\n",
    "for i in range(4):\n",
    "    for j in range(5):\n",
    "        try:\n",
    "            ax[i,j].boxplot(all_df[Continuous[c]],whis=(0,100))\n",
    "            ax[i,j].set_title(Continuous[c])\n",
    "            c += 1\n",
    "        except IndexError:\n",
    "            continue"
   ]
  },
  {
   "cell_type": "markdown",
   "id": "b757f700-2524-4fbb-ad6f-339527378004",
   "metadata": {},
   "source": [
    "There were so many outliers, I found it more helpful to look at these altered boxplots which have whiskers extending all the way to 0 and 100 percentile, rather than the usual interquartile range.\n",
    "\n",
    "I'm still just going to chop off the top few percent, but this exercise has the important consequence of informing me **which** continuous variables actually need this treatment. Counter-intuitively, it's the ones which actually have a box in their boxplot, as the others, which appear like capital I, represent continuous variables pertaining to uncommon features, and thus any measurement is an outlier compared to the vast bulk of the distribution, which is just 0."
   ]
  },
  {
   "cell_type": "code",
   "execution_count": 33,
   "id": "66e6459e-9f94-4fb8-a7cb-57690e337545",
   "metadata": {},
   "outputs": [],
   "source": [
    "has_outliers = [\n",
    "    'LotFrontage',\n",
    "    'LotArea',\n",
    "    'MasVnrArea',\n",
    "    'BsmtFinSF1',\n",
    "    'BsmtUnfSF',\n",
    "    'TotalBsmtSF',\n",
    "    '1stFlrSF',\n",
    "    '2ndFlrSF',\n",
    "    'GrLivArea',\n",
    "    'GarageArea'\n",
    "]"
   ]
  },
  {
   "cell_type": "code",
   "execution_count": 34,
   "id": "0de5a1f8-0412-4b58-bb4e-9a6e171945c6",
   "metadata": {},
   "outputs": [
    {
     "data": {
      "text/plain": [
       "(2919, 80)"
      ]
     },
     "execution_count": 34,
     "metadata": {},
     "output_type": "execute_result"
    }
   ],
   "source": [
    "all_df.shape"
   ]
  },
  {
   "cell_type": "code",
   "execution_count": 35,
   "id": "2a692bad-8af0-445a-9dd9-76847e2bf7e5",
   "metadata": {},
   "outputs": [
    {
     "data": {
      "text/plain": [
       "(2876, 80)"
      ]
     },
     "execution_count": 35,
     "metadata": {},
     "output_type": "execute_result"
    }
   ],
   "source": [
    "for col in has_outliers:\n",
    "    \n",
    "    all_df.drop(\n",
    "        all_df.loc[\n",
    "            (all_df[col] > all_df[col].mean() + 4 * all_df[col].std())\n",
    "            & (all_df['SalePrice'].isna() == False),\n",
    "            col\n",
    "        ].index,\n",
    "        inplace=True)\n",
    "    \n",
    "all_df.shape"
   ]
  },
  {
   "cell_type": "markdown",
   "id": "ccdc274c-6d3f-4bec-bbbc-7a038b476fcf",
   "metadata": {},
   "source": [
    "I tried to minimize the amount I took out via this method (and only took out data from the training set), because some of the test set is outliers as well."
   ]
  },
  {
   "cell_type": "markdown",
   "id": "e784b456-a5b8-4476-980d-536e1c7e493c",
   "metadata": {},
   "source": [
    "## Age Variables"
   ]
  },
  {
   "cell_type": "markdown",
   "id": "fc7091b5-ad2c-465f-9beb-c52312c36403",
   "metadata": {},
   "source": [
    "There are several date variables represeneted in this dataset. To make them appropriate for use in machine learning models for the purpose of price prediction, I want to make them \"ages\" instead. This is really a minor distinction, and is easy to accomplish."
   ]
  },
  {
   "cell_type": "markdown",
   "id": "47939ac3-4cf7-407a-8cc0-7ec7337d668d",
   "metadata": {},
   "source": [
    "Some other notes:\n",
    "\n",
    "- I found one erroroneous value in `GarageYrBlt` (2207). While it may be possible to send a garage back in time in that year, I doubt it has been done.\n",
    "- I also construct `Remod` to indicate whether a house even underwent remodeling, as the data simple repeat the year built in the remodel year column if a house **wasn't** remodeled. I also use this to set my remodel age variable to 0.\n",
    "- I encode `SaleDate` as a string variable like this because I am aware that housing markets would **not** be accurately represented by a continuous time variable, especially in the period this data is from."
   ]
  },
  {
   "cell_type": "code",
   "execution_count": 36,
   "id": "02b40568-6c62-4ab4-a0ba-73e0ed516971",
   "metadata": {},
   "outputs": [],
   "source": [
    "all_df.loc[all_df['GarageYrBlt'] == 2207, 'GarageYrBlt'] = 2007\n",
    "all_df['Remod'] = 0\n",
    "all_df.loc[(all_df['YearRemodAdd'] != all_df['YearBuilt']),'Remod'] = 1\n",
    "all_df['BuildAgeAtSale'] = all_df['YrSold'] - all_df['YearBuilt']\n",
    "all_df['GarageAgeAtSale'] = all_df['YrSold'] - all_df['GarageYrBlt']\n",
    "all_df['RemodAgeAtSale'] = all_df['YrSold'] - all_df['YearRemodAdd']\n",
    "all_df.loc[all_df['Remod'] == 0, 'RemodAgeAtSale'] = 0\n",
    "all_df['SaleDate'] = all_df['YrSold'].astype('str') + 'm' + all_df['MoSold'].astype('str')"
   ]
  },
  {
   "cell_type": "markdown",
   "id": "fdd8ced7-078e-46b6-ab1c-0f50fa80336a",
   "metadata": {},
   "source": [
    "## Minor Fixes"
   ]
  },
  {
   "cell_type": "markdown",
   "id": "4aaac9e8-e31d-46df-b5d1-aed849daa0a5",
   "metadata": {},
   "source": [
    "At one point, during the much messier exploratory data analysis work not presented here, I noticed that `Exterior2nd`, `Condition2`, and `BsmtFinType2` will actually just be exactly the same as the \"1\" version of their variable if there was only one exterior material, condition, or basement finish. Finding that this would be inaccurate, I chose to add a new category to each, representing that there was only one type.\n",
    "\n",
    "Here is evidence of my claim:"
   ]
  },
  {
   "cell_type": "code",
   "execution_count": 37,
   "id": "89d5b5b1-7849-4be2-bb05-9acfb0a2aa33",
   "metadata": {},
   "outputs": [
    {
     "data": {
      "text/plain": [
       "0.8511821974965229"
      ]
     },
     "execution_count": 37,
     "metadata": {},
     "output_type": "execute_result"
    }
   ],
   "source": [
    "all_df[(all_df.Exterior1st == all_df.Exterior2nd)].shape[0] / all_df.shape[0]"
   ]
  },
  {
   "cell_type": "code",
   "execution_count": 38,
   "id": "7b70d8a2-bfdf-4d39-a153-7d32619c9eff",
   "metadata": {},
   "outputs": [
    {
     "data": {
      "text/plain": [
       "0.8643949930458971"
      ]
     },
     "execution_count": 38,
     "metadata": {},
     "output_type": "execute_result"
    }
   ],
   "source": [
    "all_df[(all_df.Condition1 == all_df.Condition2)].shape[0] / all_df.shape[0]"
   ]
  },
  {
   "cell_type": "markdown",
   "id": "8f2439b0-a9e2-4ff8-9d68-29e9c6f5e1d2",
   "metadata": {},
   "source": [
    "The duplication is extremely obvious in these two, but less common in basements. I speculate, based on my experience observing basements over the course of my personal life, that it is very common to have a portion of the basement finished, and a portion unfinished."
   ]
  },
  {
   "cell_type": "code",
   "execution_count": 39,
   "id": "c9782f13-0f74-4312-a04c-bdc6526d29a1",
   "metadata": {},
   "outputs": [
    {
     "data": {
      "text/plain": [
       "0.3209318497913769"
      ]
     },
     "execution_count": 39,
     "metadata": {},
     "output_type": "execute_result"
    }
   ],
   "source": [
    "all_df[(all_df.BsmtFinType1 == all_df.BsmtFinType2)].shape[0] / all_df.shape[0]"
   ]
  },
  {
   "cell_type": "code",
   "execution_count": 40,
   "id": "fba60b81-d92c-441c-99ef-07e028c054ae",
   "metadata": {},
   "outputs": [
    {
     "data": {
      "text/plain": [
       "Unf    0.293115\n",
       "GLQ    0.287552\n",
       "ALQ    0.146732\n",
       "Rec    0.099444\n",
       "BLQ    0.092142\n",
       "LwQ    0.053547\n",
       "No     0.027469\n",
       "Name: BsmtFinType1, dtype: float64"
      ]
     },
     "execution_count": 40,
     "metadata": {},
     "output_type": "execute_result"
    }
   ],
   "source": [
    "all_df.BsmtFinType1.value_counts(normalize=True)"
   ]
  },
  {
   "cell_type": "code",
   "execution_count": 41,
   "id": "2941b8c3-a969-4b23-84ee-40e21fd637ec",
   "metadata": {},
   "outputs": [
    {
     "data": {
      "text/plain": [
       "Unf    0.855007\n",
       "Rec    0.035466\n",
       "LwQ    0.029555\n",
       "No     0.027469\n",
       "BLQ    0.022949\n",
       "ALQ    0.017733\n",
       "GLQ    0.011822\n",
       "Name: BsmtFinType2, dtype: float64"
      ]
     },
     "execution_count": 41,
     "metadata": {},
     "output_type": "execute_result"
    }
   ],
   "source": [
    "all_df.BsmtFinType2.value_counts(normalize=True)"
   ]
  },
  {
   "cell_type": "markdown",
   "id": "f9d96d70-245c-4a46-a9d7-7a940347db1e",
   "metadata": {},
   "source": [
    "And the data back this up as the reason why overlap is less common for basement finish types. Regardless, the overlap exists, so all 3 variables get the treatment I described above."
   ]
  },
  {
   "cell_type": "code",
   "execution_count": 42,
   "id": "81cf7f80-a6b6-45b8-8b95-cd8e4855f643",
   "metadata": {},
   "outputs": [],
   "source": [
    "all_df.loc[(all_df.Exterior1st == all_df.Exterior2nd),'Exterior2nd'] = 'OneExt'\n",
    "all_df.loc[(all_df.Condition1 == all_df.Condition2),'Condition2'] = 'OneCond' \n",
    "all_df.loc[(all_df.BsmtFinType1 == all_df.BsmtFinType2),'BsmtFinType2'] = 'OneBsmt'"
   ]
  },
  {
   "cell_type": "markdown",
   "id": "afa671ca-4c0a-4f08-bf4c-74d10ddf8699",
   "metadata": {},
   "source": [
    "Additionally, another minor fix necessary before encoding is to make `MSSubClass` into a string so it is encoded with appropriate dummy variables like a categorical variable, rather than being treated like a numerical one, as the numbers are just codes whose numerical values are irrelevant to the model."
   ]
  },
  {
   "cell_type": "code",
   "execution_count": 43,
   "id": "6c77a5cb-8ee8-4c39-9382-4f82f7a3c517",
   "metadata": {},
   "outputs": [],
   "source": [
    "all_df['MSSubClass'] = all_df['MSSubClass'].astype('str')"
   ]
  },
  {
   "cell_type": "markdown",
   "id": "ce9f9534-d96a-4f87-9ce7-ea63c600f37b",
   "metadata": {},
   "source": [
    "## Encoding"
   ]
  },
  {
   "cell_type": "markdown",
   "id": "d5b53343-c7e8-477c-84f6-a68d98dda5db",
   "metadata": {},
   "source": [
    "With the preliminary work done, now it's time to create dummy variables."
   ]
  },
  {
   "cell_type": "code",
   "execution_count": 45,
   "id": "9c213bac-edb7-486f-85f8-6faae12fd70e",
   "metadata": {},
   "outputs": [],
   "source": [
    "new_cols = ['Remod','BuildAgeAtSale','GarageAgeAtSale','RemodAgeAtSale','SaleDate']\n",
    "dummies = pd.get_dummies(all_df[Categorical + Discrete + Continuous + new_cols + Ordinal + ['SalePrice']])\n",
    "test_df = dummies[dummies.SalePrice.isna() == True].copy()\n",
    "train_df = dummies[dummies.SalePrice.isna() == False].copy()\n",
    "test_df.drop(columns=['SalePrice'],inplace=True)"
   ]
  },
  {
   "cell_type": "code",
   "execution_count": 47,
   "id": "85aeb470-1cc9-4863-a33d-f74f9bce970f",
   "metadata": {},
   "outputs": [
    {
     "data": {
      "text/plain": [
       "(1417, 372)"
      ]
     },
     "execution_count": 47,
     "metadata": {},
     "output_type": "execute_result"
    }
   ],
   "source": [
    "train_df.shape"
   ]
  },
  {
   "cell_type": "code",
   "execution_count": 46,
   "id": "27f7829e-911c-40ed-9718-d26b96a05853",
   "metadata": {},
   "outputs": [
    {
     "data": {
      "text/plain": [
       "(1459, 371)"
      ]
     },
     "execution_count": 46,
     "metadata": {},
     "output_type": "execute_result"
    }
   ],
   "source": [
    "test_df.shape"
   ]
  },
  {
   "cell_type": "markdown",
   "id": "6323b5be-79b5-4ee1-88ae-c00ced74e29f",
   "metadata": {},
   "source": [
    "## Models"
   ]
  },
  {
   "cell_type": "code",
   "execution_count": 56,
   "id": "8d7b1eaf-025b-4c73-b75f-e0c3f975fcc6",
   "metadata": {},
   "outputs": [],
   "source": [
    "train_X = train_df.drop(columns=['SalePrice'])\n",
    "train_y = train_df['SalePrice']\n",
    "log_train_y = np.log(train_y)"
   ]
  },
  {
   "cell_type": "markdown",
   "id": "1833bfe7-0e55-4f75-912e-820249103c8e",
   "metadata": {},
   "source": [
    "Here I take the log of train_y because it works better for the lasso model and because that's how scoring is done for this competition, so the best parameters' scores will set expectations more along the lines of the actual competition score."
   ]
  },
  {
   "cell_type": "markdown",
   "id": "c2db0442-212e-4da4-942c-15e02cde5f22",
   "metadata": {
    "tags": []
   },
   "source": [
    "To make these predictions I use the logarithmic average of a Lasso Regressor and an XGBoost Regressor"
   ]
  },
  {
   "cell_type": "markdown",
   "id": "3fb0a345-251f-406d-afbc-7606bb81feba",
   "metadata": {},
   "source": [
    "### Lasso"
   ]
  },
  {
   "cell_type": "code",
   "execution_count": 52,
   "id": "01fca666-b78b-4ff3-9a30-49afabf2b2ab",
   "metadata": {},
   "outputs": [],
   "source": [
    "from sklearn.linear_model import Lasso\n",
    "from sklearn.preprocessing import RobustScaler\n",
    "from sklearn.pipeline import make_pipeline\n",
    "from sklearn.model_selection import GridSearchCV"
   ]
  },
  {
   "cell_type": "code",
   "execution_count": 57,
   "id": "b18358ec-3beb-4b46-80af-1508ea1b42e5",
   "metadata": {},
   "outputs": [
    {
     "name": "stdout",
     "output_type": "stream",
     "text": [
      "Fitting 5 folds for each of 3 candidates, totalling 15 fits\n",
      "-0.11033446202874361\n",
      "{'lasso__alpha': 0.0005}\n"
     ]
    }
   ],
   "source": [
    "lasso = make_pipeline(RobustScaler(), Lasso(max_iter=2000))\n",
    "parameters = {\n",
    "    'lasso__alpha': [0.00025, 0.0005, 0.00075],\n",
    "}\n",
    "\n",
    "lasso_grid = GridSearchCV(lasso,\n",
    "                        parameters,\n",
    "                        cv = 5,\n",
    "                        verbose=True,\n",
    "                        scoring='neg_root_mean_squared_error')\n",
    "\n",
    "lasso_grid.fit(train_X, log_train_y)\n",
    "print(lasso_grid.best_score_)\n",
    "print(lasso_grid.best_params_)"
   ]
  },
  {
   "cell_type": "code",
   "execution_count": 81,
   "id": "d6c6bea9-c510-49c3-bf2d-c707728d210c",
   "metadata": {},
   "outputs": [],
   "source": [
    "Lasso_model =  make_pipeline(RobustScaler(), Lasso(alpha=0.0005,max_iter=2000))"
   ]
  },
  {
   "cell_type": "markdown",
   "id": "a4fa53c6-ba0b-453a-9d83-0b73235d2aac",
   "metadata": {},
   "source": [
    "## XGBoost"
   ]
  },
  {
   "cell_type": "code",
   "execution_count": 60,
   "id": "3f15e1ec-db87-401b-a2bb-92ff0c92b4be",
   "metadata": {},
   "outputs": [],
   "source": [
    "import xgboost"
   ]
  },
  {
   "cell_type": "code",
   "execution_count": 75,
   "id": "b2a09845-ebbe-4491-b528-1619d5fdb24e",
   "metadata": {},
   "outputs": [
    {
     "name": "stdout",
     "output_type": "stream",
     "text": [
      "Fitting 5 folds for each of 3 candidates, totalling 15 fits\n",
      "-0.1160639712134451\n",
      "{'gpu_id': 0, 'learning_rate': 0.05, 'max_depth': 3, 'n_estimators': 1000, 'n_jobs': 6, 'objective': 'reg:squarederror', 'tree_method': 'gpu_hist'}\n"
     ]
    }
   ],
   "source": [
    "xgb1 = xgboost.XGBRegressor()\n",
    "parameters = {'objective':['reg:squarederror'],\n",
    "              'tree_method':['gpu_hist'],\n",
    "              'learning_rate': [0.05],\n",
    "              'max_depth': [3],\n",
    "              'n_estimators': [500,750,1000],\n",
    "              'n_jobs':[6],\n",
    "              'gpu_id':[0]}\n",
    "\n",
    "xgb_grid = GridSearchCV(xgb1,\n",
    "                        parameters,\n",
    "                        cv = 5,\n",
    "                        verbose=True,\n",
    "                        scoring='neg_root_mean_squared_error')\n",
    "\n",
    "xgb_grid.fit(train_X,log_train_y)\n",
    "\n",
    "print(xgb_grid.best_score_)\n",
    "print(xgb_grid.best_params_)"
   ]
  },
  {
   "cell_type": "code",
   "execution_count": 76,
   "id": "6d9952da-abce-4066-b2a7-c2ffcc424457",
   "metadata": {},
   "outputs": [],
   "source": [
    "xgb_model = xgboost.XGBRegressor(**xgb_grid.best_params_)"
   ]
  },
  {
   "cell_type": "markdown",
   "id": "21a49fbe-39df-476a-a4cf-7e453b11daf7",
   "metadata": {},
   "source": [
    "### Blending"
   ]
  },
  {
   "cell_type": "code",
   "execution_count": 82,
   "id": "94341cef-4003-4b87-bcb0-7fc3ec99decd",
   "metadata": {},
   "outputs": [
    {
     "data": {
      "text/html": [
       "<style>#sk-container-id-1 {color: black;background-color: white;}#sk-container-id-1 pre{padding: 0;}#sk-container-id-1 div.sk-toggleable {background-color: white;}#sk-container-id-1 label.sk-toggleable__label {cursor: pointer;display: block;width: 100%;margin-bottom: 0;padding: 0.3em;box-sizing: border-box;text-align: center;}#sk-container-id-1 label.sk-toggleable__label-arrow:before {content: \"▸\";float: left;margin-right: 0.25em;color: #696969;}#sk-container-id-1 label.sk-toggleable__label-arrow:hover:before {color: black;}#sk-container-id-1 div.sk-estimator:hover label.sk-toggleable__label-arrow:before {color: black;}#sk-container-id-1 div.sk-toggleable__content {max-height: 0;max-width: 0;overflow: hidden;text-align: left;background-color: #f0f8ff;}#sk-container-id-1 div.sk-toggleable__content pre {margin: 0.2em;color: black;border-radius: 0.25em;background-color: #f0f8ff;}#sk-container-id-1 input.sk-toggleable__control:checked~div.sk-toggleable__content {max-height: 200px;max-width: 100%;overflow: auto;}#sk-container-id-1 input.sk-toggleable__control:checked~label.sk-toggleable__label-arrow:before {content: \"▾\";}#sk-container-id-1 div.sk-estimator input.sk-toggleable__control:checked~label.sk-toggleable__label {background-color: #d4ebff;}#sk-container-id-1 div.sk-label input.sk-toggleable__control:checked~label.sk-toggleable__label {background-color: #d4ebff;}#sk-container-id-1 input.sk-hidden--visually {border: 0;clip: rect(1px 1px 1px 1px);clip: rect(1px, 1px, 1px, 1px);height: 1px;margin: -1px;overflow: hidden;padding: 0;position: absolute;width: 1px;}#sk-container-id-1 div.sk-estimator {font-family: monospace;background-color: #f0f8ff;border: 1px dotted black;border-radius: 0.25em;box-sizing: border-box;margin-bottom: 0.5em;}#sk-container-id-1 div.sk-estimator:hover {background-color: #d4ebff;}#sk-container-id-1 div.sk-parallel-item::after {content: \"\";width: 100%;border-bottom: 1px solid gray;flex-grow: 1;}#sk-container-id-1 div.sk-label:hover label.sk-toggleable__label {background-color: #d4ebff;}#sk-container-id-1 div.sk-serial::before {content: \"\";position: absolute;border-left: 1px solid gray;box-sizing: border-box;top: 0;bottom: 0;left: 50%;z-index: 0;}#sk-container-id-1 div.sk-serial {display: flex;flex-direction: column;align-items: center;background-color: white;padding-right: 0.2em;padding-left: 0.2em;position: relative;}#sk-container-id-1 div.sk-item {position: relative;z-index: 1;}#sk-container-id-1 div.sk-parallel {display: flex;align-items: stretch;justify-content: center;background-color: white;position: relative;}#sk-container-id-1 div.sk-item::before, #sk-container-id-1 div.sk-parallel-item::before {content: \"\";position: absolute;border-left: 1px solid gray;box-sizing: border-box;top: 0;bottom: 0;left: 50%;z-index: -1;}#sk-container-id-1 div.sk-parallel-item {display: flex;flex-direction: column;z-index: 1;position: relative;background-color: white;}#sk-container-id-1 div.sk-parallel-item:first-child::after {align-self: flex-end;width: 50%;}#sk-container-id-1 div.sk-parallel-item:last-child::after {align-self: flex-start;width: 50%;}#sk-container-id-1 div.sk-parallel-item:only-child::after {width: 0;}#sk-container-id-1 div.sk-dashed-wrapped {border: 1px dashed gray;margin: 0 0.4em 0.5em 0.4em;box-sizing: border-box;padding-bottom: 0.4em;background-color: white;}#sk-container-id-1 div.sk-label label {font-family: monospace;font-weight: bold;display: inline-block;line-height: 1.2em;}#sk-container-id-1 div.sk-label-container {text-align: center;}#sk-container-id-1 div.sk-container {/* jupyter's `normalize.less` sets `[hidden] { display: none; }` but bootstrap.min.css set `[hidden] { display: none !important; }` so we also need the `!important` here to be able to override the default hidden behavior on the sphinx rendered scikit-learn.org. See: https://github.com/scikit-learn/scikit-learn/issues/21755 */display: inline-block !important;position: relative;}#sk-container-id-1 div.sk-text-repr-fallback {display: none;}</style><div id=\"sk-container-id-1\" class=\"sk-top-container\"><div class=\"sk-text-repr-fallback\"><pre>XGBRegressor(base_score=0.5, booster=&#x27;gbtree&#x27;, callbacks=None,\n",
       "             colsample_bylevel=1, colsample_bynode=1, colsample_bytree=1,\n",
       "             early_stopping_rounds=None, enable_categorical=False,\n",
       "             eval_metric=None, gamma=0, gpu_id=0, grow_policy=&#x27;depthwise&#x27;,\n",
       "             importance_type=None, interaction_constraints=&#x27;&#x27;,\n",
       "             learning_rate=0.05, max_bin=256, max_cat_to_onehot=4,\n",
       "             max_delta_step=0, max_depth=3, max_leaves=0, min_child_weight=1,\n",
       "             missing=nan, monotone_constraints=&#x27;()&#x27;, n_estimators=1000,\n",
       "             n_jobs=6, num_parallel_tree=1, predictor=&#x27;auto&#x27;, random_state=0,\n",
       "             reg_alpha=0, reg_lambda=1, ...)</pre><b>In a Jupyter environment, please rerun this cell to show the HTML representation or trust the notebook. <br />On GitHub, the HTML representation is unable to render, please try loading this page with nbviewer.org.</b></div><div class=\"sk-container\" hidden><div class=\"sk-item\"><div class=\"sk-estimator sk-toggleable\"><input class=\"sk-toggleable__control sk-hidden--visually\" id=\"sk-estimator-id-1\" type=\"checkbox\" checked><label for=\"sk-estimator-id-1\" class=\"sk-toggleable__label sk-toggleable__label-arrow\">XGBRegressor</label><div class=\"sk-toggleable__content\"><pre>XGBRegressor(base_score=0.5, booster=&#x27;gbtree&#x27;, callbacks=None,\n",
       "             colsample_bylevel=1, colsample_bynode=1, colsample_bytree=1,\n",
       "             early_stopping_rounds=None, enable_categorical=False,\n",
       "             eval_metric=None, gamma=0, gpu_id=0, grow_policy=&#x27;depthwise&#x27;,\n",
       "             importance_type=None, interaction_constraints=&#x27;&#x27;,\n",
       "             learning_rate=0.05, max_bin=256, max_cat_to_onehot=4,\n",
       "             max_delta_step=0, max_depth=3, max_leaves=0, min_child_weight=1,\n",
       "             missing=nan, monotone_constraints=&#x27;()&#x27;, n_estimators=1000,\n",
       "             n_jobs=6, num_parallel_tree=1, predictor=&#x27;auto&#x27;, random_state=0,\n",
       "             reg_alpha=0, reg_lambda=1, ...)</pre></div></div></div></div></div>"
      ],
      "text/plain": [
       "XGBRegressor(base_score=0.5, booster='gbtree', callbacks=None,\n",
       "             colsample_bylevel=1, colsample_bynode=1, colsample_bytree=1,\n",
       "             early_stopping_rounds=None, enable_categorical=False,\n",
       "             eval_metric=None, gamma=0, gpu_id=0, grow_policy='depthwise',\n",
       "             importance_type=None, interaction_constraints='',\n",
       "             learning_rate=0.05, max_bin=256, max_cat_to_onehot=4,\n",
       "             max_delta_step=0, max_depth=3, max_leaves=0, min_child_weight=1,\n",
       "             missing=nan, monotone_constraints='()', n_estimators=1000,\n",
       "             n_jobs=6, num_parallel_tree=1, predictor='auto', random_state=0,\n",
       "             reg_alpha=0, reg_lambda=1, ...)"
      ]
     },
     "execution_count": 82,
     "metadata": {},
     "output_type": "execute_result"
    }
   ],
   "source": [
    "Lasso_model.fit(train_X,log_train_y)\n",
    "xgb_model.fit(train_X,log_train_y)"
   ]
  },
  {
   "cell_type": "code",
   "execution_count": 83,
   "id": "08c780a1-1fe2-4194-81d4-0f0e92ae42b6",
   "metadata": {},
   "outputs": [],
   "source": [
    "Lasso_pred = Lasso_model.predict(test_df)\n",
    "xgb_pred = xgb_model.predict(test_df)"
   ]
  },
  {
   "cell_type": "code",
   "execution_count": 87,
   "id": "32508002-a79c-4730-b4a6-a9bdf9967bdc",
   "metadata": {},
   "outputs": [],
   "source": [
    "blended = np.exp((Lasso_pred + xgb_pred) / 2)"
   ]
  },
  {
   "cell_type": "code",
   "execution_count": 88,
   "id": "63cae5e3-fb2e-484a-b172-5acd7b74bce7",
   "metadata": {},
   "outputs": [
    {
     "data": {
      "text/plain": [
       "array([125567.36960794, 157216.45790962, 183206.72851663, ...,\n",
       "       150570.72443438, 117518.17494204, 228444.49705271])"
      ]
     },
     "execution_count": 88,
     "metadata": {},
     "output_type": "execute_result"
    }
   ],
   "source": [
    "blended"
   ]
  },
  {
   "cell_type": "markdown",
   "id": "61deb0e5-7840-4fa0-ae3c-5fab053bf44f",
   "metadata": {
    "tags": []
   },
   "source": [
    "## Generate Submission"
   ]
  },
  {
   "cell_type": "code",
   "execution_count": 89,
   "id": "d4a35723-d91d-4db6-a0fa-3133ac850225",
   "metadata": {},
   "outputs": [],
   "source": [
    "submission = pd.DataFrame({'Id':test_df.index, 'SalePrice':blended})\n",
    "submission.to_csv('./submission.csv',index=False)"
   ]
  }
 ],
 "metadata": {
  "kernelspec": {
   "display_name": "Python 3 (ipykernel)",
   "language": "python",
   "name": "python3"
  },
  "language_info": {
   "codemirror_mode": {
    "name": "ipython",
    "version": 3
   },
   "file_extension": ".py",
   "mimetype": "text/x-python",
   "name": "python",
   "nbconvert_exporter": "python",
   "pygments_lexer": "ipython3",
   "version": "3.10.4"
  }
 },
 "nbformat": 4,
 "nbformat_minor": 5
}
